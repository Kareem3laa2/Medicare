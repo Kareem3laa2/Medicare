{
 "cells": [
  {
   "cell_type": "markdown",
   "metadata": {},
   "source": [
    "# **Business Understanding**"
   ]
  },
  {
   "cell_type": "markdown",
   "metadata": {},
   "source": [
    "## Cardiovascular Diseases (CVDs)\n",
    "\n",
    "Cardiovascular diseases are a group of disorders affecting the heart and blood vessels. Here are some of the key types:\n",
    "\n",
    "1. **Acute Myocardial Infarction**\n",
    "   - **Description**: A medical emergency that occurs when blood flow to part of the heart muscle is interrupted, causing tissue damage due to lack of oxygen.\n",
    "\n",
    "2. **Coronary Heart Disease**\n",
    "   - **Description**: A condition characterized by the narrowing or blockage of the blood vessels that supply the heart.\n",
    "\n",
    "3. **Heart Failure**\n",
    "   - **Description**: A medical condition in which the heart is unable to pump blood effectively enough to meet the body's needs for oxygen and nutrients.\n",
    "\n",
    "4. **Stroke**\n",
    "   - **Description**: A medical emergency that occurs when blood flow to part of the brain stops, causing damage to brain tissue.\n"
   ]
  },
  {
   "cell_type": "markdown",
   "metadata": {},
   "source": [
    "أمراض القلب والأوعية الدموية الرئيسية\n",
    "معدل الاستشفاء الرئيسي لأمراض القلب والأوعية الدموية بين المستفيدين من رسوم الرعاية الطبية مقابل الخدمة (65+)\n",
    "\n",
    "انتشار الوفيات داخل المستشفى بين حالات الاستشفاء الرئيسية لأمراض القلب والأوعية الدموية ، والمستفيدين من رسوم الرعاية الطبية مقابل الخدمة (65+) ؛ \n",
    "\n",
    "أمراض القلب (أمراض القلب)\n",
    "أمراض القلب (أمراض القلب) معدل الاستشفاء بين المستفيدين من الرعاية الطبية (65+)\n",
    "\n",
    "انتشار الوفيات داخل المستشفى بين مستشفيات أمراض القلب (أمراض القلب) ، المستفيدون من رسوم الرعاية الطبية مقابل الخدمة (65+)\n",
    "\n",
    "stroke\n",
    "انتشار الوفيات داخل المستشفى بين حالات الاستشفاء من الأمراض الدماغية الوعائية (السكتة الدماغية) ، والمستفيدين من رسوم الرعاية الطبية مقابل الخدمة (65+)\n",
    "\n",
    "معدل الاستشفاء من الأمراض الدماغية الوعائية (السكتة الدماغية) بين المستفيدين من رسوم الرعاية الطبية مقابل الخدمة (65+)"
   ]
  },
  {
   "cell_type": "markdown",
   "metadata": {},
   "source": [
    "## Data Understanding"
   ]
  },
  {
   "cell_type": "code",
   "execution_count": 241,
   "metadata": {},
   "outputs": [],
   "source": [
    "import pandas as pd"
   ]
  },
  {
   "cell_type": "code",
   "execution_count": 242,
   "metadata": {},
   "outputs": [
    {
     "data": {
      "text/html": [
       "<div>\n",
       "<style scoped>\n",
       "    .dataframe tbody tr th:only-of-type {\n",
       "        vertical-align: middle;\n",
       "    }\n",
       "\n",
       "    .dataframe tbody tr th {\n",
       "        vertical-align: top;\n",
       "    }\n",
       "\n",
       "    .dataframe thead th {\n",
       "        text-align: right;\n",
       "    }\n",
       "</style>\n",
       "<table border=\"1\" class=\"dataframe\">\n",
       "  <thead>\n",
       "    <tr style=\"text-align: right;\">\n",
       "      <th></th>\n",
       "      <th>RowId</th>\n",
       "      <th>YearStart</th>\n",
       "      <th>LocationAbbr</th>\n",
       "      <th>LocationDesc</th>\n",
       "      <th>DataSource</th>\n",
       "      <th>PriorityArea1</th>\n",
       "      <th>PriorityArea2</th>\n",
       "      <th>PriorityArea3</th>\n",
       "      <th>PriorityArea4</th>\n",
       "      <th>Class</th>\n",
       "      <th>Topic</th>\n",
       "      <th>Question</th>\n",
       "      <th>Data_Value_Type</th>\n",
       "      <th>Data_Value_Unit</th>\n",
       "      <th>Data_Value</th>\n",
       "      <th>Data_Value_Alt</th>\n",
       "      <th>Data_Value_Footnote_Symbol</th>\n",
       "      <th>Data_Value_Footnote</th>\n",
       "      <th>Low_Confidence_Limit</th>\n",
       "      <th>High_Confidence_Limit</th>\n",
       "      <th>Break_Out_Category</th>\n",
       "      <th>Break_Out</th>\n",
       "      <th>ClassId</th>\n",
       "      <th>TopicId</th>\n",
       "      <th>QuestionId</th>\n",
       "      <th>Data_Value_TypeID</th>\n",
       "      <th>BreakOutCategoryId</th>\n",
       "      <th>BreakOutId</th>\n",
       "      <th>LocationId</th>\n",
       "      <th>GeoLocation</th>\n",
       "    </tr>\n",
       "  </thead>\n",
       "  <tbody>\n",
       "    <tr>\n",
       "      <th>0</th>\n",
       "      <td>NaN</td>\n",
       "      <td>2016</td>\n",
       "      <td>US</td>\n",
       "      <td>United States</td>\n",
       "      <td>Medicare</td>\n",
       "      <td>NaN</td>\n",
       "      <td>NaN</td>\n",
       "      <td>NaN</td>\n",
       "      <td>NaN</td>\n",
       "      <td>Cardiovascular Diseases</td>\n",
       "      <td>Major Cardiovascular Disease</td>\n",
       "      <td>Major cardiovascular disease hospitalization r...</td>\n",
       "      <td>Crude</td>\n",
       "      <td>Rate per 100,000</td>\n",
       "      <td>2367.6</td>\n",
       "      <td>2367.6</td>\n",
       "      <td>NaN</td>\n",
       "      <td>NaN</td>\n",
       "      <td>2318.3</td>\n",
       "      <td>2417.9</td>\n",
       "      <td>Race</td>\n",
       "      <td>Unknown</td>\n",
       "      <td>C1</td>\n",
       "      <td>T1</td>\n",
       "      <td>MD101</td>\n",
       "      <td>Crude</td>\n",
       "      <td>BOC04</td>\n",
       "      <td>RAC08</td>\n",
       "      <td>59</td>\n",
       "      <td>NaN</td>\n",
       "    </tr>\n",
       "    <tr>\n",
       "      <th>1</th>\n",
       "      <td>NaN</td>\n",
       "      <td>2017</td>\n",
       "      <td>US</td>\n",
       "      <td>United States</td>\n",
       "      <td>Medicare</td>\n",
       "      <td>NaN</td>\n",
       "      <td>NaN</td>\n",
       "      <td>NaN</td>\n",
       "      <td>NaN</td>\n",
       "      <td>Cardiovascular Diseases</td>\n",
       "      <td>Major Cardiovascular Disease</td>\n",
       "      <td>Major cardiovascular disease hospitalization r...</td>\n",
       "      <td>Crude</td>\n",
       "      <td>Rate per 100,000</td>\n",
       "      <td>2403.7</td>\n",
       "      <td>2403.7</td>\n",
       "      <td>NaN</td>\n",
       "      <td>NaN</td>\n",
       "      <td>2358.1</td>\n",
       "      <td>2450.2</td>\n",
       "      <td>Race</td>\n",
       "      <td>Unknown</td>\n",
       "      <td>C1</td>\n",
       "      <td>T1</td>\n",
       "      <td>MD101</td>\n",
       "      <td>Crude</td>\n",
       "      <td>BOC04</td>\n",
       "      <td>RAC08</td>\n",
       "      <td>59</td>\n",
       "      <td>NaN</td>\n",
       "    </tr>\n",
       "    <tr>\n",
       "      <th>2</th>\n",
       "      <td>NaN</td>\n",
       "      <td>2018</td>\n",
       "      <td>US</td>\n",
       "      <td>United States</td>\n",
       "      <td>Medicare</td>\n",
       "      <td>NaN</td>\n",
       "      <td>NaN</td>\n",
       "      <td>NaN</td>\n",
       "      <td>NaN</td>\n",
       "      <td>Cardiovascular Diseases</td>\n",
       "      <td>Major Cardiovascular Disease</td>\n",
       "      <td>Major cardiovascular disease hospitalization r...</td>\n",
       "      <td>Crude</td>\n",
       "      <td>Rate per 100,000</td>\n",
       "      <td>2482.3</td>\n",
       "      <td>2482.3</td>\n",
       "      <td>NaN</td>\n",
       "      <td>NaN</td>\n",
       "      <td>2438.9</td>\n",
       "      <td>2526.4</td>\n",
       "      <td>Race</td>\n",
       "      <td>Unknown</td>\n",
       "      <td>C1</td>\n",
       "      <td>T1</td>\n",
       "      <td>MD101</td>\n",
       "      <td>Crude</td>\n",
       "      <td>BOC04</td>\n",
       "      <td>RAC08</td>\n",
       "      <td>59</td>\n",
       "      <td>NaN</td>\n",
       "    </tr>\n",
       "    <tr>\n",
       "      <th>3</th>\n",
       "      <td>NaN</td>\n",
       "      <td>2019</td>\n",
       "      <td>US</td>\n",
       "      <td>United States</td>\n",
       "      <td>Medicare</td>\n",
       "      <td>NaN</td>\n",
       "      <td>NaN</td>\n",
       "      <td>NaN</td>\n",
       "      <td>NaN</td>\n",
       "      <td>Cardiovascular Diseases</td>\n",
       "      <td>Major Cardiovascular Disease</td>\n",
       "      <td>Major cardiovascular disease hospitalization r...</td>\n",
       "      <td>Crude</td>\n",
       "      <td>Rate per 100,000</td>\n",
       "      <td>5395.0</td>\n",
       "      <td>5395.0</td>\n",
       "      <td>NaN</td>\n",
       "      <td>NaN</td>\n",
       "      <td>5381.7</td>\n",
       "      <td>5408.2</td>\n",
       "      <td>Gender</td>\n",
       "      <td>Male</td>\n",
       "      <td>C1</td>\n",
       "      <td>T1</td>\n",
       "      <td>MD101</td>\n",
       "      <td>Crude</td>\n",
       "      <td>BOC02</td>\n",
       "      <td>GEN01</td>\n",
       "      <td>59</td>\n",
       "      <td>NaN</td>\n",
       "    </tr>\n",
       "    <tr>\n",
       "      <th>4</th>\n",
       "      <td>NaN</td>\n",
       "      <td>2020</td>\n",
       "      <td>US</td>\n",
       "      <td>United States</td>\n",
       "      <td>Medicare</td>\n",
       "      <td>NaN</td>\n",
       "      <td>NaN</td>\n",
       "      <td>NaN</td>\n",
       "      <td>NaN</td>\n",
       "      <td>Cardiovascular Diseases</td>\n",
       "      <td>Major Cardiovascular Disease</td>\n",
       "      <td>Major cardiovascular disease hospitalization r...</td>\n",
       "      <td>Crude</td>\n",
       "      <td>Rate per 100,000</td>\n",
       "      <td>4505.4</td>\n",
       "      <td>4505.4</td>\n",
       "      <td>NaN</td>\n",
       "      <td>NaN</td>\n",
       "      <td>4493.3</td>\n",
       "      <td>4517.5</td>\n",
       "      <td>Gender</td>\n",
       "      <td>Male</td>\n",
       "      <td>C1</td>\n",
       "      <td>T1</td>\n",
       "      <td>MD101</td>\n",
       "      <td>Crude</td>\n",
       "      <td>BOC02</td>\n",
       "      <td>GEN01</td>\n",
       "      <td>59</td>\n",
       "      <td>NaN</td>\n",
       "    </tr>\n",
       "  </tbody>\n",
       "</table>\n",
       "</div>"
      ],
      "text/plain": [
       "   RowId  YearStart LocationAbbr   LocationDesc DataSource  PriorityArea1  \\\n",
       "0    NaN       2016           US  United States   Medicare            NaN   \n",
       "1    NaN       2017           US  United States   Medicare            NaN   \n",
       "2    NaN       2018           US  United States   Medicare            NaN   \n",
       "3    NaN       2019           US  United States   Medicare            NaN   \n",
       "4    NaN       2020           US  United States   Medicare            NaN   \n",
       "\n",
       "   PriorityArea2  PriorityArea3  PriorityArea4                    Class  \\\n",
       "0            NaN            NaN            NaN  Cardiovascular Diseases   \n",
       "1            NaN            NaN            NaN  Cardiovascular Diseases   \n",
       "2            NaN            NaN            NaN  Cardiovascular Diseases   \n",
       "3            NaN            NaN            NaN  Cardiovascular Diseases   \n",
       "4            NaN            NaN            NaN  Cardiovascular Diseases   \n",
       "\n",
       "                          Topic  \\\n",
       "0  Major Cardiovascular Disease   \n",
       "1  Major Cardiovascular Disease   \n",
       "2  Major Cardiovascular Disease   \n",
       "3  Major Cardiovascular Disease   \n",
       "4  Major Cardiovascular Disease   \n",
       "\n",
       "                                            Question Data_Value_Type  \\\n",
       "0  Major cardiovascular disease hospitalization r...           Crude   \n",
       "1  Major cardiovascular disease hospitalization r...           Crude   \n",
       "2  Major cardiovascular disease hospitalization r...           Crude   \n",
       "3  Major cardiovascular disease hospitalization r...           Crude   \n",
       "4  Major cardiovascular disease hospitalization r...           Crude   \n",
       "\n",
       "    Data_Value_Unit  Data_Value  Data_Value_Alt  Data_Value_Footnote_Symbol  \\\n",
       "0  Rate per 100,000      2367.6          2367.6                         NaN   \n",
       "1  Rate per 100,000      2403.7          2403.7                         NaN   \n",
       "2  Rate per 100,000      2482.3          2482.3                         NaN   \n",
       "3  Rate per 100,000      5395.0          5395.0                         NaN   \n",
       "4  Rate per 100,000      4505.4          4505.4                         NaN   \n",
       "\n",
       "   Data_Value_Footnote  Low_Confidence_Limit  High_Confidence_Limit  \\\n",
       "0                  NaN                2318.3                 2417.9   \n",
       "1                  NaN                2358.1                 2450.2   \n",
       "2                  NaN                2438.9                 2526.4   \n",
       "3                  NaN                5381.7                 5408.2   \n",
       "4                  NaN                4493.3                 4517.5   \n",
       "\n",
       "  Break_Out_Category Break_Out ClassId TopicId QuestionId Data_Value_TypeID  \\\n",
       "0               Race   Unknown      C1      T1      MD101             Crude   \n",
       "1               Race   Unknown      C1      T1      MD101             Crude   \n",
       "2               Race   Unknown      C1      T1      MD101             Crude   \n",
       "3             Gender      Male      C1      T1      MD101             Crude   \n",
       "4             Gender      Male      C1      T1      MD101             Crude   \n",
       "\n",
       "  BreakOutCategoryId BreakOutId  LocationId GeoLocation  \n",
       "0              BOC04      RAC08          59         NaN  \n",
       "1              BOC04      RAC08          59         NaN  \n",
       "2              BOC04      RAC08          59         NaN  \n",
       "3              BOC02      GEN01          59         NaN  \n",
       "4              BOC02      GEN01          59         NaN  "
      ]
     },
     "execution_count": 242,
     "metadata": {},
     "output_type": "execute_result"
    }
   ],
   "source": [
    "pd.set_option('display.max_columns', None)\n",
    "\n",
    "data = pd.read_csv('Medicare.csv')\n",
    "\n",
    "data.head(5)"
   ]
  },
  {
   "cell_type": "code",
   "execution_count": 243,
   "metadata": {},
   "outputs": [
    {
     "data": {
      "text/plain": [
       "LocationDesc\n",
       "United States     720\n",
       "Massachusetts     648\n",
       "Maryland          648\n",
       "Georgia           648\n",
       "Washington        648\n",
       "Connecticut       648\n",
       "New Jersey        648\n",
       "Illinois          648\n",
       "North Carolina    648\n",
       "Florida           648\n",
       "New York          648\n",
       "Ohio              648\n",
       "California        648\n",
       "Texas             648\n",
       "Colorado          648\n",
       "Kansas            648\n",
       "Virginia          647\n",
       "Oregon            647\n",
       "Michigan          647\n",
       "Oklahoma          647\n",
       "Nevada            647\n",
       "Wisconsin         647\n",
       "Minnesota         647\n",
       "Iowa              647\n",
       "Pennsylvania      647\n",
       "Arizona           647\n",
       "Tennessee         646\n",
       "Indiana           645\n",
       "Missouri          644\n",
       "Louisiana         644\n",
       "Delaware          644\n",
       "Nebraska          644\n",
       "South Carolina    644\n",
       "Arkansas          643\n",
       "Utah              643\n",
       "Kentucky          643\n",
       "Alabama           642\n",
       "Idaho             641\n",
       "New Mexico        641\n",
       "Hawaii            640\n",
       "New Hampshire     639\n",
       "Mississippi       639\n",
       "Rhode Island      634\n",
       "Alaska            632\n",
       "West Virginia     630\n",
       "Washington, DC    630\n",
       "Maine             630\n",
       "Wyoming           627\n",
       "Montana           625\n",
       "South Dakota      623\n",
       "Vermont           617\n",
       "North Dakota      614\n",
       "Name: count, dtype: int64"
      ]
     },
     "execution_count": 243,
     "metadata": {},
     "output_type": "execute_result"
    }
   ],
   "source": [
    "data['LocationDesc'].value_counts()"
   ]
  },
  {
   "cell_type": "code",
   "execution_count": 244,
   "metadata": {},
   "outputs": [
    {
     "data": {
      "text/plain": [
       "Question\n",
       "Major cardiovascular disease hospitalization rate among Medicare Fee-For-Service beneficiaries (65+); CMS Medicare                                                   2814\n",
       "Diseases of the heart (heart disease) hospitalization rate among Medicare beneficiaries (65+); CMS Medicare                                                          2814\n",
       "Coronary heart disease hospitalization rate among Medicare beneficiaries (65+); CMS Medicare                                                                         2814\n",
       "Heart failure hospitalization rate among Medicare Fee-For-Service beneficiaries (65+); CMS Medicare                                                                  2814\n",
       "Acute myocardial infarction (heart attack) hospitalization rate among Medicare Fee-For-Service beneficiaries (65+); CMS Medicare                                     2814\n",
       "Cerebrovascular disease (stroke) hospitalization rate among Medicare Fee-For-Service beneficiaries (65+); CMS Medicare                                               2814\n",
       "Prevalence of in-hospital mortality among major cardiovascular disease hospitalizations, Medicare Fee-For-Service beneficiaries (65+); CMS Medicare                  2812\n",
       "Prevalence of in-hospital mortality among diseases of the heart (heart disease) hospitalizations, Medicare Fee-For-Service beneficiaries (65+); CMS Medicare         2806\n",
       "Prevalence of in-hospital mortality among cerebrovascular disease (stroke) hospitalizations, Medicare Fee-For-Service beneficiaries (65+); CMS Medicare              2792\n",
       "Prevalence of in-hospital mortality among coronary heart disease hospitalizations, Medicare Fee-For-Service beneficiaries (65+); CMS Medicare                        2779\n",
       "Prevalence of in-hospital mortality among acute myocardial infarction (heart attack) hospitalizations, Medicare Fee-For-Service beneficiaries (65+); CMS Medicare    2770\n",
       "Prevalence of in-hospital mortality among heart failure hospitalizations, Medicare Fee-For-Service beneficiaries (65+); CMS Medicare                                 2611\n",
       "Name: count, dtype: int64"
      ]
     },
     "execution_count": 244,
     "metadata": {},
     "output_type": "execute_result"
    }
   ],
   "source": [
    "data['Question'].value_counts()"
   ]
  },
  {
   "cell_type": "code",
   "execution_count": 245,
   "metadata": {},
   "outputs": [
    {
     "data": {
      "text/plain": [
       "Break_Out\n",
       "Male                  3744\n",
       "75+                   3744\n",
       "Non-Hispanic White    3744\n",
       "Female                3744\n",
       "Other                 3733\n",
       "Unknown               3712\n",
       "Non-Hispanic Black    3697\n",
       "Non-Hispanic Asian    3658\n",
       "Hispanic              3606\n",
       "Overall                 72\n",
       "Name: count, dtype: int64"
      ]
     },
     "execution_count": 245,
     "metadata": {},
     "output_type": "execute_result"
    }
   ],
   "source": [
    "data['Break_Out'].value_counts()"
   ]
  },
  {
   "cell_type": "markdown",
   "metadata": {},
   "source": [
    " #### Gender = Male + Female\n",
    " #### Age = +75\n",
    " #### Race = Non-Hispanic White + Non-Hispanic Black + Non-Hispanic Asian + Hispanic + Other + Unknown\n",
    " #### Overall = Overall\n"
   ]
  },
  {
   "cell_type": "code",
   "execution_count": 246,
   "metadata": {},
   "outputs": [
    {
     "name": "stdout",
     "output_type": "stream",
     "text": [
      "<class 'pandas.core.frame.DataFrame'>\n",
      "RangeIndex: 33454 entries, 0 to 33453\n",
      "Data columns (total 30 columns):\n",
      " #   Column                      Non-Null Count  Dtype  \n",
      "---  ------                      --------------  -----  \n",
      " 0   RowId                       0 non-null      float64\n",
      " 1   YearStart                   33454 non-null  int64  \n",
      " 2   LocationAbbr                33454 non-null  object \n",
      " 3   LocationDesc                33454 non-null  object \n",
      " 4   DataSource                  33454 non-null  object \n",
      " 5   PriorityArea1               0 non-null      float64\n",
      " 6   PriorityArea2               0 non-null      float64\n",
      " 7   PriorityArea3               0 non-null      float64\n",
      " 8   PriorityArea4               0 non-null      float64\n",
      " 9   Class                       33454 non-null  object \n",
      " 10  Topic                       33454 non-null  object \n",
      " 11  Question                    33454 non-null  object \n",
      " 12  Data_Value_Type             33454 non-null  object \n",
      " 13  Data_Value_Unit             33454 non-null  object \n",
      " 14  Data_Value                  33454 non-null  float64\n",
      " 15  Data_Value_Alt              33454 non-null  float64\n",
      " 16  Data_Value_Footnote_Symbol  0 non-null      float64\n",
      " 17  Data_Value_Footnote         0 non-null      float64\n",
      " 18  Low_Confidence_Limit        33454 non-null  float64\n",
      " 19  High_Confidence_Limit       33454 non-null  float64\n",
      " 20  Break_Out_Category          33454 non-null  object \n",
      " 21  Break_Out                   33454 non-null  object \n",
      " 22  ClassId                     33454 non-null  object \n",
      " 23  TopicId                     33454 non-null  object \n",
      " 24  QuestionId                  33454 non-null  object \n",
      " 25  Data_Value_TypeID           33454 non-null  object \n",
      " 26  BreakOutCategoryId          33454 non-null  object \n",
      " 27  BreakOutId                  33454 non-null  object \n",
      " 28  LocationId                  33454 non-null  int64  \n",
      " 29  GeoLocation                 32734 non-null  object \n",
      "dtypes: float64(11), int64(2), object(17)\n",
      "memory usage: 7.7+ MB\n"
     ]
    }
   ],
   "source": [
    "data.info()"
   ]
  },
  {
   "cell_type": "code",
   "execution_count": 247,
   "metadata": {},
   "outputs": [
    {
     "data": {
      "text/plain": [
       "Break_Out_Category\n",
       "Race       22150\n",
       "Gender      7488\n",
       "Age         3744\n",
       "Overall       72\n",
       "Name: count, dtype: int64"
      ]
     },
     "execution_count": 247,
     "metadata": {},
     "output_type": "execute_result"
    }
   ],
   "source": [
    "data['Break_Out_Category'].value_counts()"
   ]
  },
  {
   "cell_type": "code",
   "execution_count": 248,
   "metadata": {},
   "outputs": [],
   "source": [
    "cat_columns = data.select_dtypes(include='object')"
   ]
  },
  {
   "cell_type": "code",
   "execution_count": 249,
   "metadata": {},
   "outputs": [
    {
     "data": {
      "text/plain": [
       "LocationAbbr\n",
       "AR    1281\n",
       "ME    1278\n",
       "US     720\n",
       "TX     648\n",
       "CT     648\n",
       "GA     648\n",
       "KS     648\n",
       "FL     648\n",
       "NJ     648\n",
       "WA     648\n",
       "IL     648\n",
       "NC     648\n",
       "CO     648\n",
       "MA     648\n",
       "NY     648\n",
       "OH     648\n",
       "CA     648\n",
       "WI     647\n",
       "OR     647\n",
       "VI     647\n",
       "IA     647\n",
       "PA     647\n",
       "MI     647\n",
       "OK     647\n",
       "MN     647\n",
       "NV     647\n",
       "TN     646\n",
       "IN     645\n",
       "NB     644\n",
       "MO     644\n",
       "LA     644\n",
       "SC     644\n",
       "DE     644\n",
       "KY     643\n",
       "UT     643\n",
       "AL     642\n",
       "NM     641\n",
       "ID     641\n",
       "HI     640\n",
       "MS     639\n",
       "NH     639\n",
       "RI     634\n",
       "AK     632\n",
       "DC     630\n",
       "WV     630\n",
       "WY     627\n",
       "MT     625\n",
       "SD     623\n",
       "VT     617\n",
       "ND     614\n",
       "AZ       9\n",
       "Name: count, dtype: int64"
      ]
     },
     "execution_count": 249,
     "metadata": {},
     "output_type": "execute_result"
    }
   ],
   "source": [
    "data['LocationAbbr'].value_counts()\n"
   ]
  },
  {
   "cell_type": "markdown",
   "metadata": {},
   "source": [
    "## Note: LocationAbbr is incorrect"
   ]
  },
  {
   "cell_type": "code",
   "execution_count": 250,
   "metadata": {},
   "outputs": [
    {
     "data": {
      "text/plain": [
       "LocationDesc\n",
       "Arkansas    643\n",
       "Arizona     638\n",
       "Name: count, dtype: int64"
      ]
     },
     "execution_count": 250,
     "metadata": {},
     "output_type": "execute_result"
    }
   ],
   "source": [
    "data[data.LocationAbbr == 'AR']['LocationDesc'].value_counts()"
   ]
  },
  {
   "cell_type": "code",
   "execution_count": 251,
   "metadata": {},
   "outputs": [
    {
     "data": {
      "text/plain": [
       "LocationDesc\n",
       "Arizona    9\n",
       "Name: count, dtype: int64"
      ]
     },
     "execution_count": 251,
     "metadata": {},
     "output_type": "execute_result"
    }
   ],
   "source": [
    "data[data.LocationAbbr == 'AZ']['LocationDesc'].value_counts()"
   ]
  },
  {
   "cell_type": "code",
   "execution_count": 252,
   "metadata": {},
   "outputs": [
    {
     "data": {
      "text/plain": [
       "647"
      ]
     },
     "execution_count": 252,
     "metadata": {},
     "output_type": "execute_result"
    }
   ],
   "source": [
    "data[data.LocationDesc == 'Arizona'].shape[0]"
   ]
  },
  {
   "cell_type": "code",
   "execution_count": 253,
   "metadata": {},
   "outputs": [
    {
     "data": {
      "text/plain": [
       "Data_Value_Unit\n",
       "Rate per 100,000    16884\n",
       "Percent (%)         16570\n",
       "Name: count, dtype: int64"
      ]
     },
     "execution_count": 253,
     "metadata": {},
     "output_type": "execute_result"
    }
   ],
   "source": [
    "data['Data_Value_Unit'].value_counts()"
   ]
  },
  {
   "cell_type": "code",
   "execution_count": 254,
   "metadata": {},
   "outputs": [
    {
     "data": {
      "text/plain": [
       "['RowId',\n",
       " 'YearStart',\n",
       " 'LocationAbbr',\n",
       " 'LocationDesc',\n",
       " 'DataSource',\n",
       " 'PriorityArea1',\n",
       " 'PriorityArea2',\n",
       " 'PriorityArea3',\n",
       " 'PriorityArea4',\n",
       " 'Class',\n",
       " 'Topic',\n",
       " 'Question',\n",
       " 'Data_Value_Type',\n",
       " 'Data_Value_Unit',\n",
       " 'Data_Value',\n",
       " 'Data_Value_Alt',\n",
       " 'Data_Value_Footnote_Symbol',\n",
       " 'Data_Value_Footnote',\n",
       " 'Low_Confidence_Limit',\n",
       " 'High_Confidence_Limit',\n",
       " 'Break_Out_Category',\n",
       " 'Break_Out',\n",
       " 'ClassId',\n",
       " 'TopicId',\n",
       " 'QuestionId',\n",
       " 'Data_Value_TypeID',\n",
       " 'BreakOutCategoryId',\n",
       " 'BreakOutId',\n",
       " 'LocationId',\n",
       " 'GeoLocation']"
      ]
     },
     "execution_count": 254,
     "metadata": {},
     "output_type": "execute_result"
    }
   ],
   "source": [
    "data.columns.tolist()"
   ]
  },
  {
   "cell_type": "code",
   "execution_count": 255,
   "metadata": {},
   "outputs": [
    {
     "data": {
      "text/plain": [
       "['LocationAbbr',\n",
       " 'LocationDesc',\n",
       " 'DataSource',\n",
       " 'Class',\n",
       " 'Topic',\n",
       " 'Question',\n",
       " 'Data_Value_Type',\n",
       " 'Data_Value_Unit',\n",
       " 'Break_Out_Category',\n",
       " 'Break_Out',\n",
       " 'ClassId',\n",
       " 'TopicId',\n",
       " 'QuestionId',\n",
       " 'Data_Value_TypeID',\n",
       " 'BreakOutCategoryId',\n",
       " 'BreakOutId',\n",
       " 'GeoLocation']"
      ]
     },
     "execution_count": 255,
     "metadata": {},
     "output_type": "execute_result"
    }
   ],
   "source": [
    "cat_columns.columns.tolist()"
   ]
  },
  {
   "cell_type": "code",
   "execution_count": 256,
   "metadata": {},
   "outputs": [],
   "source": [
    "topics = data['Topic'].value_counts().index.to_list()"
   ]
  },
  {
   "cell_type": "code",
   "execution_count": 257,
   "metadata": {},
   "outputs": [
    {
     "name": "stdout",
     "output_type": "stream",
     "text": [
      "Major Cardiovascular Disease\n",
      "Major cardiovascular disease hospitalization rate among Medicare Fee-For-Service beneficiaries (65+); CMS Medicare\n",
      "Prevalence of in-hospital mortality among major cardiovascular disease hospitalizations, Medicare Fee-For-Service beneficiaries (65+); CMS Medicare\n",
      "\n",
      "Diseases of the Heart (Heart Disease)\n",
      "Diseases of the heart (heart disease) hospitalization rate among Medicare beneficiaries (65+); CMS Medicare\n",
      "Prevalence of in-hospital mortality among diseases of the heart (heart disease) hospitalizations, Medicare Fee-For-Service beneficiaries (65+); CMS Medicare\n",
      "\n",
      "Stroke\n",
      "Prevalence of in-hospital mortality among cerebrovascular disease (stroke) hospitalizations, Medicare Fee-For-Service beneficiaries (65+); CMS Medicare\n",
      "Cerebrovascular disease (stroke) hospitalization rate among Medicare Fee-For-Service beneficiaries (65+); CMS Medicare\n",
      "\n",
      "Coronary Heart Disease\n",
      "Coronary heart disease hospitalization rate among Medicare beneficiaries (65+); CMS Medicare\n",
      "Prevalence of in-hospital mortality among coronary heart disease hospitalizations, Medicare Fee-For-Service beneficiaries (65+); CMS Medicare\n",
      "\n",
      "Acute Myocardial Infarction (Heart Attack)\n",
      "Prevalence of in-hospital mortality among acute myocardial infarction (heart attack) hospitalizations, Medicare Fee-For-Service beneficiaries (65+); CMS Medicare\n",
      "Acute myocardial infarction (heart attack) hospitalization rate among Medicare Fee-For-Service beneficiaries (65+); CMS Medicare\n",
      "\n",
      "Heart Failure\n",
      "Heart failure hospitalization rate among Medicare Fee-For-Service beneficiaries (65+); CMS Medicare\n",
      "Prevalence of in-hospital mortality among heart failure hospitalizations, Medicare Fee-For-Service beneficiaries (65+); CMS Medicare\n",
      "\n"
     ]
    }
   ],
   "source": [
    "for t in topics:\n",
    "    print(t)\n",
    "    print(data[data.Topic == t]['Question'].unique()[0])\n",
    "    print(data[data.Topic == t]['Question'].unique()[1])\n",
    "\n",
    "    print()"
   ]
  },
  {
   "cell_type": "markdown",
   "metadata": {},
   "source": [
    "## Data Prepration"
   ]
  },
  {
   "cell_type": "code",
   "execution_count": 258,
   "metadata": {},
   "outputs": [],
   "source": [
    "data.drop(columns=['RowId','PriorityArea1','PriorityArea2','PriorityArea3','PriorityArea4' , 'Class','Data_Value_Footnote_Symbol' , 'Data_Value_Footnote','Data_Value_TypeID','Data_Value_Type','DataSource','LocationAbbr'],inplace=True)"
   ]
  },
  {
   "cell_type": "code",
   "execution_count": 259,
   "metadata": {},
   "outputs": [
    {
     "data": {
      "text/html": [
       "<div>\n",
       "<style scoped>\n",
       "    .dataframe tbody tr th:only-of-type {\n",
       "        vertical-align: middle;\n",
       "    }\n",
       "\n",
       "    .dataframe tbody tr th {\n",
       "        vertical-align: top;\n",
       "    }\n",
       "\n",
       "    .dataframe thead th {\n",
       "        text-align: right;\n",
       "    }\n",
       "</style>\n",
       "<table border=\"1\" class=\"dataframe\">\n",
       "  <thead>\n",
       "    <tr style=\"text-align: right;\">\n",
       "      <th></th>\n",
       "      <th>YearStart</th>\n",
       "      <th>LocationDesc</th>\n",
       "      <th>Topic</th>\n",
       "      <th>Question</th>\n",
       "      <th>Data_Value_Unit</th>\n",
       "      <th>Data_Value</th>\n",
       "      <th>Data_Value_Alt</th>\n",
       "      <th>Low_Confidence_Limit</th>\n",
       "      <th>High_Confidence_Limit</th>\n",
       "      <th>Break_Out_Category</th>\n",
       "      <th>Break_Out</th>\n",
       "      <th>ClassId</th>\n",
       "      <th>TopicId</th>\n",
       "      <th>QuestionId</th>\n",
       "      <th>BreakOutCategoryId</th>\n",
       "      <th>BreakOutId</th>\n",
       "      <th>LocationId</th>\n",
       "      <th>GeoLocation</th>\n",
       "    </tr>\n",
       "  </thead>\n",
       "  <tbody>\n",
       "    <tr>\n",
       "      <th>0</th>\n",
       "      <td>2016</td>\n",
       "      <td>United States</td>\n",
       "      <td>Major Cardiovascular Disease</td>\n",
       "      <td>Major cardiovascular disease hospitalization r...</td>\n",
       "      <td>Rate per 100,000</td>\n",
       "      <td>2367.6</td>\n",
       "      <td>2367.6</td>\n",
       "      <td>2318.3</td>\n",
       "      <td>2417.9</td>\n",
       "      <td>Race</td>\n",
       "      <td>Unknown</td>\n",
       "      <td>C1</td>\n",
       "      <td>T1</td>\n",
       "      <td>MD101</td>\n",
       "      <td>BOC04</td>\n",
       "      <td>RAC08</td>\n",
       "      <td>59</td>\n",
       "      <td>NaN</td>\n",
       "    </tr>\n",
       "    <tr>\n",
       "      <th>1</th>\n",
       "      <td>2017</td>\n",
       "      <td>United States</td>\n",
       "      <td>Major Cardiovascular Disease</td>\n",
       "      <td>Major cardiovascular disease hospitalization r...</td>\n",
       "      <td>Rate per 100,000</td>\n",
       "      <td>2403.7</td>\n",
       "      <td>2403.7</td>\n",
       "      <td>2358.1</td>\n",
       "      <td>2450.2</td>\n",
       "      <td>Race</td>\n",
       "      <td>Unknown</td>\n",
       "      <td>C1</td>\n",
       "      <td>T1</td>\n",
       "      <td>MD101</td>\n",
       "      <td>BOC04</td>\n",
       "      <td>RAC08</td>\n",
       "      <td>59</td>\n",
       "      <td>NaN</td>\n",
       "    </tr>\n",
       "    <tr>\n",
       "      <th>2</th>\n",
       "      <td>2018</td>\n",
       "      <td>United States</td>\n",
       "      <td>Major Cardiovascular Disease</td>\n",
       "      <td>Major cardiovascular disease hospitalization r...</td>\n",
       "      <td>Rate per 100,000</td>\n",
       "      <td>2482.3</td>\n",
       "      <td>2482.3</td>\n",
       "      <td>2438.9</td>\n",
       "      <td>2526.4</td>\n",
       "      <td>Race</td>\n",
       "      <td>Unknown</td>\n",
       "      <td>C1</td>\n",
       "      <td>T1</td>\n",
       "      <td>MD101</td>\n",
       "      <td>BOC04</td>\n",
       "      <td>RAC08</td>\n",
       "      <td>59</td>\n",
       "      <td>NaN</td>\n",
       "    </tr>\n",
       "    <tr>\n",
       "      <th>3</th>\n",
       "      <td>2019</td>\n",
       "      <td>United States</td>\n",
       "      <td>Major Cardiovascular Disease</td>\n",
       "      <td>Major cardiovascular disease hospitalization r...</td>\n",
       "      <td>Rate per 100,000</td>\n",
       "      <td>5395.0</td>\n",
       "      <td>5395.0</td>\n",
       "      <td>5381.7</td>\n",
       "      <td>5408.2</td>\n",
       "      <td>Gender</td>\n",
       "      <td>Male</td>\n",
       "      <td>C1</td>\n",
       "      <td>T1</td>\n",
       "      <td>MD101</td>\n",
       "      <td>BOC02</td>\n",
       "      <td>GEN01</td>\n",
       "      <td>59</td>\n",
       "      <td>NaN</td>\n",
       "    </tr>\n",
       "    <tr>\n",
       "      <th>4</th>\n",
       "      <td>2020</td>\n",
       "      <td>United States</td>\n",
       "      <td>Major Cardiovascular Disease</td>\n",
       "      <td>Major cardiovascular disease hospitalization r...</td>\n",
       "      <td>Rate per 100,000</td>\n",
       "      <td>4505.4</td>\n",
       "      <td>4505.4</td>\n",
       "      <td>4493.3</td>\n",
       "      <td>4517.5</td>\n",
       "      <td>Gender</td>\n",
       "      <td>Male</td>\n",
       "      <td>C1</td>\n",
       "      <td>T1</td>\n",
       "      <td>MD101</td>\n",
       "      <td>BOC02</td>\n",
       "      <td>GEN01</td>\n",
       "      <td>59</td>\n",
       "      <td>NaN</td>\n",
       "    </tr>\n",
       "  </tbody>\n",
       "</table>\n",
       "</div>"
      ],
      "text/plain": [
       "   YearStart   LocationDesc                         Topic  \\\n",
       "0       2016  United States  Major Cardiovascular Disease   \n",
       "1       2017  United States  Major Cardiovascular Disease   \n",
       "2       2018  United States  Major Cardiovascular Disease   \n",
       "3       2019  United States  Major Cardiovascular Disease   \n",
       "4       2020  United States  Major Cardiovascular Disease   \n",
       "\n",
       "                                            Question   Data_Value_Unit  \\\n",
       "0  Major cardiovascular disease hospitalization r...  Rate per 100,000   \n",
       "1  Major cardiovascular disease hospitalization r...  Rate per 100,000   \n",
       "2  Major cardiovascular disease hospitalization r...  Rate per 100,000   \n",
       "3  Major cardiovascular disease hospitalization r...  Rate per 100,000   \n",
       "4  Major cardiovascular disease hospitalization r...  Rate per 100,000   \n",
       "\n",
       "   Data_Value  Data_Value_Alt  Low_Confidence_Limit  High_Confidence_Limit  \\\n",
       "0      2367.6          2367.6                2318.3                 2417.9   \n",
       "1      2403.7          2403.7                2358.1                 2450.2   \n",
       "2      2482.3          2482.3                2438.9                 2526.4   \n",
       "3      5395.0          5395.0                5381.7                 5408.2   \n",
       "4      4505.4          4505.4                4493.3                 4517.5   \n",
       "\n",
       "  Break_Out_Category Break_Out ClassId TopicId QuestionId BreakOutCategoryId  \\\n",
       "0               Race   Unknown      C1      T1      MD101              BOC04   \n",
       "1               Race   Unknown      C1      T1      MD101              BOC04   \n",
       "2               Race   Unknown      C1      T1      MD101              BOC04   \n",
       "3             Gender      Male      C1      T1      MD101              BOC02   \n",
       "4             Gender      Male      C1      T1      MD101              BOC02   \n",
       "\n",
       "  BreakOutId  LocationId GeoLocation  \n",
       "0      RAC08          59         NaN  \n",
       "1      RAC08          59         NaN  \n",
       "2      RAC08          59         NaN  \n",
       "3      GEN01          59         NaN  \n",
       "4      GEN01          59         NaN  "
      ]
     },
     "execution_count": 259,
     "metadata": {},
     "output_type": "execute_result"
    }
   ],
   "source": [
    "data.head(5)"
   ]
  },
  {
   "cell_type": "code",
   "execution_count": 260,
   "metadata": {},
   "outputs": [
    {
     "data": {
      "text/plain": [
       "8118.2"
      ]
     },
     "execution_count": 260,
     "metadata": {},
     "output_type": "execute_result"
    }
   ],
   "source": [
    "data[data.Data_Value_Unit == 'Rate per 100,000']['Data_Value'].max()"
   ]
  },
  {
   "cell_type": "code",
   "execution_count": 261,
   "metadata": {},
   "outputs": [
    {
     "data": {
      "text/plain": [
       "0.0"
      ]
     },
     "execution_count": 261,
     "metadata": {},
     "output_type": "execute_result"
    }
   ],
   "source": [
    "data[data.Data_Value_Unit == 'Rate per 100,000']['Data_Value'].min()"
   ]
  },
  {
   "cell_type": "markdown",
   "metadata": {},
   "source": [
    "## So We Need to Normalize Data_Value_Unit"
   ]
  },
  {
   "cell_type": "code",
   "execution_count": 262,
   "metadata": {},
   "outputs": [
    {
     "data": {
      "text/plain": [
       "8        9.3\n",
       "9        6.9\n",
       "14       0.0\n",
       "15       0.0\n",
       "16       2.7\n",
       "        ... \n",
       "33448    7.1\n",
       "33449    0.0\n",
       "33450    9.4\n",
       "33451    4.2\n",
       "33452    2.9\n",
       "Name: Data_Value, Length: 16570, dtype: float64"
      ]
     },
     "execution_count": 262,
     "metadata": {},
     "output_type": "execute_result"
    }
   ],
   "source": [
    "data.loc[data['Data_Value_Unit'] == 'Percent (%)', 'Data_Value']"
   ]
  },
  {
   "cell_type": "code",
   "execution_count": 263,
   "metadata": {},
   "outputs": [],
   "source": [
    "def unit_normalizer(data):\n",
    "    data.loc[data['Data_Value_Unit'] == 'Percent (%)', 'Data_Value'] *=1000\n",
    "    data.loc[data['Data_Value_Unit'] == 'Percent (%)', 'Data_Value_Alt'] *=1000\n",
    "    data.loc[data['Data_Value_Unit'] == 'Percent (%)', 'Low_Confidence_Limit'] *=1000\n",
    "    data.loc[data['Data_Value_Unit'] == 'Percent (%)', 'High_Confidence_Limit'] *=1000\n",
    "    data['Data_Value_Unit'] = data['Data_Value_Unit'].replace('Percent (%)' , 'Rate per 100,000')\n",
    "    return data\n"
   ]
  },
  {
   "cell_type": "code",
   "execution_count": 264,
   "metadata": {},
   "outputs": [],
   "source": [
    "data = unit_normalizer(data)"
   ]
  },
  {
   "cell_type": "code",
   "execution_count": 265,
   "metadata": {},
   "outputs": [
    {
     "data": {
      "text/html": [
       "<div>\n",
       "<style scoped>\n",
       "    .dataframe tbody tr th:only-of-type {\n",
       "        vertical-align: middle;\n",
       "    }\n",
       "\n",
       "    .dataframe tbody tr th {\n",
       "        vertical-align: top;\n",
       "    }\n",
       "\n",
       "    .dataframe thead th {\n",
       "        text-align: right;\n",
       "    }\n",
       "</style>\n",
       "<table border=\"1\" class=\"dataframe\">\n",
       "  <thead>\n",
       "    <tr style=\"text-align: right;\">\n",
       "      <th></th>\n",
       "      <th>YearStart</th>\n",
       "      <th>LocationDesc</th>\n",
       "      <th>Topic</th>\n",
       "      <th>Question</th>\n",
       "      <th>Data_Value_Unit</th>\n",
       "      <th>Data_Value</th>\n",
       "      <th>Data_Value_Alt</th>\n",
       "      <th>Low_Confidence_Limit</th>\n",
       "      <th>High_Confidence_Limit</th>\n",
       "      <th>Break_Out_Category</th>\n",
       "      <th>Break_Out</th>\n",
       "      <th>ClassId</th>\n",
       "      <th>TopicId</th>\n",
       "      <th>QuestionId</th>\n",
       "      <th>BreakOutCategoryId</th>\n",
       "      <th>BreakOutId</th>\n",
       "      <th>LocationId</th>\n",
       "      <th>GeoLocation</th>\n",
       "    </tr>\n",
       "  </thead>\n",
       "  <tbody>\n",
       "    <tr>\n",
       "      <th>0</th>\n",
       "      <td>2016</td>\n",
       "      <td>United States</td>\n",
       "      <td>Major Cardiovascular Disease</td>\n",
       "      <td>Major cardiovascular disease hospitalization r...</td>\n",
       "      <td>Rate per 100,000</td>\n",
       "      <td>2367.6</td>\n",
       "      <td>2367.6</td>\n",
       "      <td>2318.3</td>\n",
       "      <td>2417.9</td>\n",
       "      <td>Race</td>\n",
       "      <td>Unknown</td>\n",
       "      <td>C1</td>\n",
       "      <td>T1</td>\n",
       "      <td>MD101</td>\n",
       "      <td>BOC04</td>\n",
       "      <td>RAC08</td>\n",
       "      <td>59</td>\n",
       "      <td>NaN</td>\n",
       "    </tr>\n",
       "    <tr>\n",
       "      <th>1</th>\n",
       "      <td>2017</td>\n",
       "      <td>United States</td>\n",
       "      <td>Major Cardiovascular Disease</td>\n",
       "      <td>Major cardiovascular disease hospitalization r...</td>\n",
       "      <td>Rate per 100,000</td>\n",
       "      <td>2403.7</td>\n",
       "      <td>2403.7</td>\n",
       "      <td>2358.1</td>\n",
       "      <td>2450.2</td>\n",
       "      <td>Race</td>\n",
       "      <td>Unknown</td>\n",
       "      <td>C1</td>\n",
       "      <td>T1</td>\n",
       "      <td>MD101</td>\n",
       "      <td>BOC04</td>\n",
       "      <td>RAC08</td>\n",
       "      <td>59</td>\n",
       "      <td>NaN</td>\n",
       "    </tr>\n",
       "    <tr>\n",
       "      <th>2</th>\n",
       "      <td>2018</td>\n",
       "      <td>United States</td>\n",
       "      <td>Major Cardiovascular Disease</td>\n",
       "      <td>Major cardiovascular disease hospitalization r...</td>\n",
       "      <td>Rate per 100,000</td>\n",
       "      <td>2482.3</td>\n",
       "      <td>2482.3</td>\n",
       "      <td>2438.9</td>\n",
       "      <td>2526.4</td>\n",
       "      <td>Race</td>\n",
       "      <td>Unknown</td>\n",
       "      <td>C1</td>\n",
       "      <td>T1</td>\n",
       "      <td>MD101</td>\n",
       "      <td>BOC04</td>\n",
       "      <td>RAC08</td>\n",
       "      <td>59</td>\n",
       "      <td>NaN</td>\n",
       "    </tr>\n",
       "    <tr>\n",
       "      <th>3</th>\n",
       "      <td>2019</td>\n",
       "      <td>United States</td>\n",
       "      <td>Major Cardiovascular Disease</td>\n",
       "      <td>Major cardiovascular disease hospitalization r...</td>\n",
       "      <td>Rate per 100,000</td>\n",
       "      <td>5395.0</td>\n",
       "      <td>5395.0</td>\n",
       "      <td>5381.7</td>\n",
       "      <td>5408.2</td>\n",
       "      <td>Gender</td>\n",
       "      <td>Male</td>\n",
       "      <td>C1</td>\n",
       "      <td>T1</td>\n",
       "      <td>MD101</td>\n",
       "      <td>BOC02</td>\n",
       "      <td>GEN01</td>\n",
       "      <td>59</td>\n",
       "      <td>NaN</td>\n",
       "    </tr>\n",
       "    <tr>\n",
       "      <th>4</th>\n",
       "      <td>2020</td>\n",
       "      <td>United States</td>\n",
       "      <td>Major Cardiovascular Disease</td>\n",
       "      <td>Major cardiovascular disease hospitalization r...</td>\n",
       "      <td>Rate per 100,000</td>\n",
       "      <td>4505.4</td>\n",
       "      <td>4505.4</td>\n",
       "      <td>4493.3</td>\n",
       "      <td>4517.5</td>\n",
       "      <td>Gender</td>\n",
       "      <td>Male</td>\n",
       "      <td>C1</td>\n",
       "      <td>T1</td>\n",
       "      <td>MD101</td>\n",
       "      <td>BOC02</td>\n",
       "      <td>GEN01</td>\n",
       "      <td>59</td>\n",
       "      <td>NaN</td>\n",
       "    </tr>\n",
       "    <tr>\n",
       "      <th>5</th>\n",
       "      <td>2021</td>\n",
       "      <td>United States</td>\n",
       "      <td>Major Cardiovascular Disease</td>\n",
       "      <td>Major cardiovascular disease hospitalization r...</td>\n",
       "      <td>Rate per 100,000</td>\n",
       "      <td>4694.6</td>\n",
       "      <td>4694.6</td>\n",
       "      <td>4682.0</td>\n",
       "      <td>4707.2</td>\n",
       "      <td>Gender</td>\n",
       "      <td>Male</td>\n",
       "      <td>C1</td>\n",
       "      <td>T1</td>\n",
       "      <td>MD101</td>\n",
       "      <td>BOC02</td>\n",
       "      <td>GEN01</td>\n",
       "      <td>59</td>\n",
       "      <td>NaN</td>\n",
       "    </tr>\n",
       "    <tr>\n",
       "      <th>6</th>\n",
       "      <td>2017</td>\n",
       "      <td>United States</td>\n",
       "      <td>Diseases of the Heart (Heart Disease)</td>\n",
       "      <td>Diseases of the heart (heart disease) hospital...</td>\n",
       "      <td>Rate per 100,000</td>\n",
       "      <td>1782.3</td>\n",
       "      <td>1782.3</td>\n",
       "      <td>1743.0</td>\n",
       "      <td>1822.4</td>\n",
       "      <td>Race</td>\n",
       "      <td>Unknown</td>\n",
       "      <td>C1</td>\n",
       "      <td>T2</td>\n",
       "      <td>MD201</td>\n",
       "      <td>BOC04</td>\n",
       "      <td>RAC08</td>\n",
       "      <td>59</td>\n",
       "      <td>NaN</td>\n",
       "    </tr>\n",
       "    <tr>\n",
       "      <th>7</th>\n",
       "      <td>2021</td>\n",
       "      <td>United States</td>\n",
       "      <td>Diseases of the Heart (Heart Disease)</td>\n",
       "      <td>Diseases of the heart (heart disease) hospital...</td>\n",
       "      <td>Rate per 100,000</td>\n",
       "      <td>1831.9</td>\n",
       "      <td>1831.9</td>\n",
       "      <td>1798.8</td>\n",
       "      <td>1865.7</td>\n",
       "      <td>Race</td>\n",
       "      <td>Unknown</td>\n",
       "      <td>C1</td>\n",
       "      <td>T2</td>\n",
       "      <td>MD201</td>\n",
       "      <td>BOC04</td>\n",
       "      <td>RAC08</td>\n",
       "      <td>59</td>\n",
       "      <td>NaN</td>\n",
       "    </tr>\n",
       "    <tr>\n",
       "      <th>8</th>\n",
       "      <td>2019</td>\n",
       "      <td>United States</td>\n",
       "      <td>Acute Myocardial Infarction (Heart Attack)</td>\n",
       "      <td>Prevalence of in-hospital mortality among acut...</td>\n",
       "      <td>Rate per 100,000</td>\n",
       "      <td>9300.0</td>\n",
       "      <td>9300.0</td>\n",
       "      <td>8200.0</td>\n",
       "      <td>10500.0</td>\n",
       "      <td>Race</td>\n",
       "      <td>Non-Hispanic Asian</td>\n",
       "      <td>C1</td>\n",
       "      <td>T3</td>\n",
       "      <td>MD403</td>\n",
       "      <td>BOC04</td>\n",
       "      <td>RAC03</td>\n",
       "      <td>59</td>\n",
       "      <td>NaN</td>\n",
       "    </tr>\n",
       "    <tr>\n",
       "      <th>9</th>\n",
       "      <td>2020</td>\n",
       "      <td>United States</td>\n",
       "      <td>Acute Myocardial Infarction (Heart Attack)</td>\n",
       "      <td>Prevalence of in-hospital mortality among acut...</td>\n",
       "      <td>Rate per 100,000</td>\n",
       "      <td>6900.0</td>\n",
       "      <td>6900.0</td>\n",
       "      <td>6800.0</td>\n",
       "      <td>7100.0</td>\n",
       "      <td>Gender</td>\n",
       "      <td>Male</td>\n",
       "      <td>C1</td>\n",
       "      <td>T3</td>\n",
       "      <td>MD403</td>\n",
       "      <td>BOC02</td>\n",
       "      <td>GEN01</td>\n",
       "      <td>59</td>\n",
       "      <td>NaN</td>\n",
       "    </tr>\n",
       "  </tbody>\n",
       "</table>\n",
       "</div>"
      ],
      "text/plain": [
       "   YearStart   LocationDesc                                       Topic  \\\n",
       "0       2016  United States                Major Cardiovascular Disease   \n",
       "1       2017  United States                Major Cardiovascular Disease   \n",
       "2       2018  United States                Major Cardiovascular Disease   \n",
       "3       2019  United States                Major Cardiovascular Disease   \n",
       "4       2020  United States                Major Cardiovascular Disease   \n",
       "5       2021  United States                Major Cardiovascular Disease   \n",
       "6       2017  United States       Diseases of the Heart (Heart Disease)   \n",
       "7       2021  United States       Diseases of the Heart (Heart Disease)   \n",
       "8       2019  United States  Acute Myocardial Infarction (Heart Attack)   \n",
       "9       2020  United States  Acute Myocardial Infarction (Heart Attack)   \n",
       "\n",
       "                                            Question   Data_Value_Unit  \\\n",
       "0  Major cardiovascular disease hospitalization r...  Rate per 100,000   \n",
       "1  Major cardiovascular disease hospitalization r...  Rate per 100,000   \n",
       "2  Major cardiovascular disease hospitalization r...  Rate per 100,000   \n",
       "3  Major cardiovascular disease hospitalization r...  Rate per 100,000   \n",
       "4  Major cardiovascular disease hospitalization r...  Rate per 100,000   \n",
       "5  Major cardiovascular disease hospitalization r...  Rate per 100,000   \n",
       "6  Diseases of the heart (heart disease) hospital...  Rate per 100,000   \n",
       "7  Diseases of the heart (heart disease) hospital...  Rate per 100,000   \n",
       "8  Prevalence of in-hospital mortality among acut...  Rate per 100,000   \n",
       "9  Prevalence of in-hospital mortality among acut...  Rate per 100,000   \n",
       "\n",
       "   Data_Value  Data_Value_Alt  Low_Confidence_Limit  High_Confidence_Limit  \\\n",
       "0      2367.6          2367.6                2318.3                 2417.9   \n",
       "1      2403.7          2403.7                2358.1                 2450.2   \n",
       "2      2482.3          2482.3                2438.9                 2526.4   \n",
       "3      5395.0          5395.0                5381.7                 5408.2   \n",
       "4      4505.4          4505.4                4493.3                 4517.5   \n",
       "5      4694.6          4694.6                4682.0                 4707.2   \n",
       "6      1782.3          1782.3                1743.0                 1822.4   \n",
       "7      1831.9          1831.9                1798.8                 1865.7   \n",
       "8      9300.0          9300.0                8200.0                10500.0   \n",
       "9      6900.0          6900.0                6800.0                 7100.0   \n",
       "\n",
       "  Break_Out_Category           Break_Out ClassId TopicId QuestionId  \\\n",
       "0               Race             Unknown      C1      T1      MD101   \n",
       "1               Race             Unknown      C1      T1      MD101   \n",
       "2               Race             Unknown      C1      T1      MD101   \n",
       "3             Gender                Male      C1      T1      MD101   \n",
       "4             Gender                Male      C1      T1      MD101   \n",
       "5             Gender                Male      C1      T1      MD101   \n",
       "6               Race             Unknown      C1      T2      MD201   \n",
       "7               Race             Unknown      C1      T2      MD201   \n",
       "8               Race  Non-Hispanic Asian      C1      T3      MD403   \n",
       "9             Gender                Male      C1      T3      MD403   \n",
       "\n",
       "  BreakOutCategoryId BreakOutId  LocationId GeoLocation  \n",
       "0              BOC04      RAC08          59         NaN  \n",
       "1              BOC04      RAC08          59         NaN  \n",
       "2              BOC04      RAC08          59         NaN  \n",
       "3              BOC02      GEN01          59         NaN  \n",
       "4              BOC02      GEN01          59         NaN  \n",
       "5              BOC02      GEN01          59         NaN  \n",
       "6              BOC04      RAC08          59         NaN  \n",
       "7              BOC04      RAC08          59         NaN  \n",
       "8              BOC04      RAC03          59         NaN  \n",
       "9              BOC02      GEN01          59         NaN  "
      ]
     },
     "execution_count": 265,
     "metadata": {},
     "output_type": "execute_result"
    }
   ],
   "source": [
    "data.head(10)"
   ]
  },
  {
   "cell_type": "code",
   "execution_count": 266,
   "metadata": {},
   "outputs": [
    {
     "data": {
      "text/plain": [
       "720"
      ]
     },
     "execution_count": 266,
     "metadata": {},
     "output_type": "execute_result"
    }
   ],
   "source": [
    "data['GeoLocation'].isnull().sum()"
   ]
  },
  {
   "cell_type": "code",
   "execution_count": 267,
   "metadata": {},
   "outputs": [
    {
     "data": {
      "text/plain": [
       "GeoLocation\n",
       "POINT (-75.54397043 42.82700103)    648\n",
       "POINT (-81.92896054 28.93204038)    648\n",
       "POINT (-76.60926011 39.29058096)    648\n",
       "POINT (-83.62758035 32.83968109)    648\n",
       "POINT (-120.4700108 47.52227863)    648\n",
       "POINT (-106.1336109 38.84384076)    648\n",
       "POINT (-72.64984095 41.56266102)    648\n",
       "POINT (-74.27369129 40.13057005)    648\n",
       "POINT (-88.99771018 40.48501028)    648\n",
       "POINT (-79.15925046 35.46622098)    648\n",
       "POINT (-98.20078123 38.3477403)     648\n",
       "POINT (-72.08269067 42.27687047)    648\n",
       "POINT (-82.40426006 40.06021014)    648\n",
       "POINT (-120.9999995 37.63864012)    648\n",
       "POINT (-99.42677021 31.82724041)    648\n",
       "POINT (-120.1550313 44.56744942)    647\n",
       "POINT (-78.45789046 37.54268067)    647\n",
       "POINT (-84.71439027 44.66131954)    647\n",
       "POINT (-97.52107021 35.47203136)    647\n",
       "POINT (-89.81637074 44.39319117)    647\n",
       "POINT (-117.0718406 39.49324039)    647\n",
       "POINT (-94.7942005 46.35564874)     647\n",
       "POINT (-93.81649056 42.46940091)    647\n",
       "POINT (-77.86070029 40.79373015)    647\n",
       "POINT (-111.7638113 34.86597028)    647\n",
       "POINT (-85.77449091 35.68094058)    646\n",
       "POINT (-86.14996019 39.76691045)    645\n",
       "POINT (-92.56630005 38.63579078)    644\n",
       "POINT (-92.44568007 31.31266064)    644\n",
       "POINT (-75.57774117 39.00883067)    644\n",
       "POINT (-99.36572062 41.64104099)    644\n",
       "POINT (-81.04537121 33.9988213)     644\n",
       "POINT (-92.27449074 34.74865012)    643\n",
       "POINT (-111.5871306 39.36070017)    643\n",
       "POINT (-84.77497105 37.64597027)    643\n",
       "POINT (-86.63186076 32.84057112)    642\n",
       "POINT (-114.36373 43.68263001)      641\n",
       "POINT (-106.240581 34.52088095)     641\n",
       "POINT (-157.8577494 21.30485044)    640\n",
       "POINT (-71.50036092 43.65595011)    639\n",
       "POINT (-89.53803082 32.7455101)     639\n",
       "POINT (-71.52247031 41.70828019)    634\n",
       "POINT (-147.722059 64.84507996)     632\n",
       "POINT (-80.71264013 38.6655102)     630\n",
       "POINT (-77.03196113 38.89037139)    630\n",
       "POINT (-68.98503134 45.25422889)    630\n",
       "POINT (-108.1098304 43.23554134)    627\n",
       "POINT (-109.4244206 47.06652897)    625\n",
       "POINT (-100.3735306 44.35313005)    623\n",
       "POINT (-72.51764079 43.62538124)    617\n",
       "POINT (-100.118421 47.47531978)     614\n",
       "Name: count, dtype: int64"
      ]
     },
     "execution_count": 267,
     "metadata": {},
     "output_type": "execute_result"
    }
   ],
   "source": [
    "data['GeoLocation'].value_counts()"
   ]
  },
  {
   "cell_type": "code",
   "execution_count": 268,
   "metadata": {},
   "outputs": [],
   "source": [
    "import pandas as pd\n",
    "import re\n",
    "\n",
    "def extract_coordinates(geo_string):\n",
    "    match = re.match(r'POINT \\(([-\\d.]+) ([-\\d.]+)\\)', geo_string)\n",
    "    if match:\n",
    "        return float(match.group(1)), float(match.group(2))\n",
    "    return None, None\n",
    "\n",
    "data[['Longitude', 'Latitude']] = data['GeoLocation'].apply(lambda x: extract_coordinates(x) if pd.notna(x) else (None, None)).apply(pd.Series)\n"
   ]
  },
  {
   "cell_type": "code",
   "execution_count": 269,
   "metadata": {},
   "outputs": [
    {
     "data": {
      "text/plain": [
       "Latitude\n",
       "42.827001    648\n",
       "28.932040    648\n",
       "39.290581    648\n",
       "32.839681    648\n",
       "47.522279    648\n",
       "38.843841    648\n",
       "41.562661    648\n",
       "40.130570    648\n",
       "40.485010    648\n",
       "35.466221    648\n",
       "38.347740    648\n",
       "42.276870    648\n",
       "40.060210    648\n",
       "37.638640    648\n",
       "31.827240    648\n",
       "44.567449    647\n",
       "37.542681    647\n",
       "44.661320    647\n",
       "35.472031    647\n",
       "44.393191    647\n",
       "39.493240    647\n",
       "46.355649    647\n",
       "42.469401    647\n",
       "40.793730    647\n",
       "34.865970    647\n",
       "35.680941    646\n",
       "39.766910    645\n",
       "38.635791    644\n",
       "31.312661    644\n",
       "39.008831    644\n",
       "41.641041    644\n",
       "33.998821    644\n",
       "34.748650    643\n",
       "39.360700    643\n",
       "37.645970    643\n",
       "32.840571    642\n",
       "43.682630    641\n",
       "34.520881    641\n",
       "21.304850    640\n",
       "43.655950    639\n",
       "32.745510    639\n",
       "41.708280    634\n",
       "64.845080    632\n",
       "38.665510    630\n",
       "38.890371    630\n",
       "45.254229    630\n",
       "43.235541    627\n",
       "47.066529    625\n",
       "44.353130    623\n",
       "43.625381    617\n",
       "47.475320    614\n",
       "Name: count, dtype: int64"
      ]
     },
     "execution_count": 269,
     "metadata": {},
     "output_type": "execute_result"
    }
   ],
   "source": [
    "data['Latitude'].value_counts()"
   ]
  },
  {
   "cell_type": "code",
   "execution_count": 270,
   "metadata": {},
   "outputs": [
    {
     "data": {
      "text/plain": [
       "LocationDesc\n",
       "United States    720\n",
       "Name: count, dtype: int64"
      ]
     },
     "execution_count": 270,
     "metadata": {},
     "output_type": "execute_result"
    }
   ],
   "source": [
    "missing_geo_locations = data[data['GeoLocation'].isnull()]\n",
    "location_desc_missing_geo = missing_geo_locations['LocationDesc']\n",
    "location_desc_missing_geo.value_counts()\n"
   ]
  },
  {
   "cell_type": "markdown",
   "metadata": {},
   "source": [
    "## The Missing Values are all from United State so its not good to drop Them"
   ]
  },
  {
   "cell_type": "code",
   "execution_count": 271,
   "metadata": {},
   "outputs": [
    {
     "data": {
      "text/html": [
       "<div>\n",
       "<style scoped>\n",
       "    .dataframe tbody tr th:only-of-type {\n",
       "        vertical-align: middle;\n",
       "    }\n",
       "\n",
       "    .dataframe tbody tr th {\n",
       "        vertical-align: top;\n",
       "    }\n",
       "\n",
       "    .dataframe thead th {\n",
       "        text-align: right;\n",
       "    }\n",
       "</style>\n",
       "<table border=\"1\" class=\"dataframe\">\n",
       "  <thead>\n",
       "    <tr style=\"text-align: right;\">\n",
       "      <th></th>\n",
       "      <th>YearStart</th>\n",
       "      <th>LocationDesc</th>\n",
       "      <th>Topic</th>\n",
       "      <th>Question</th>\n",
       "      <th>Data_Value_Unit</th>\n",
       "      <th>Data_Value</th>\n",
       "      <th>Data_Value_Alt</th>\n",
       "      <th>Low_Confidence_Limit</th>\n",
       "      <th>High_Confidence_Limit</th>\n",
       "      <th>Break_Out_Category</th>\n",
       "      <th>Break_Out</th>\n",
       "      <th>ClassId</th>\n",
       "      <th>TopicId</th>\n",
       "      <th>QuestionId</th>\n",
       "      <th>BreakOutCategoryId</th>\n",
       "      <th>BreakOutId</th>\n",
       "      <th>LocationId</th>\n",
       "      <th>GeoLocation</th>\n",
       "      <th>Longitude</th>\n",
       "      <th>Latitude</th>\n",
       "    </tr>\n",
       "  </thead>\n",
       "  <tbody>\n",
       "    <tr>\n",
       "      <th>0</th>\n",
       "      <td>2016</td>\n",
       "      <td>United States</td>\n",
       "      <td>Major Cardiovascular Disease</td>\n",
       "      <td>Major cardiovascular disease hospitalization r...</td>\n",
       "      <td>Rate per 100,000</td>\n",
       "      <td>2367.6</td>\n",
       "      <td>2367.6</td>\n",
       "      <td>2318.3</td>\n",
       "      <td>2417.9</td>\n",
       "      <td>Race</td>\n",
       "      <td>Unknown</td>\n",
       "      <td>C1</td>\n",
       "      <td>T1</td>\n",
       "      <td>MD101</td>\n",
       "      <td>BOC04</td>\n",
       "      <td>RAC08</td>\n",
       "      <td>59</td>\n",
       "      <td>NaN</td>\n",
       "      <td>NaN</td>\n",
       "      <td>NaN</td>\n",
       "    </tr>\n",
       "    <tr>\n",
       "      <th>1</th>\n",
       "      <td>2017</td>\n",
       "      <td>United States</td>\n",
       "      <td>Major Cardiovascular Disease</td>\n",
       "      <td>Major cardiovascular disease hospitalization r...</td>\n",
       "      <td>Rate per 100,000</td>\n",
       "      <td>2403.7</td>\n",
       "      <td>2403.7</td>\n",
       "      <td>2358.1</td>\n",
       "      <td>2450.2</td>\n",
       "      <td>Race</td>\n",
       "      <td>Unknown</td>\n",
       "      <td>C1</td>\n",
       "      <td>T1</td>\n",
       "      <td>MD101</td>\n",
       "      <td>BOC04</td>\n",
       "      <td>RAC08</td>\n",
       "      <td>59</td>\n",
       "      <td>NaN</td>\n",
       "      <td>NaN</td>\n",
       "      <td>NaN</td>\n",
       "    </tr>\n",
       "    <tr>\n",
       "      <th>2</th>\n",
       "      <td>2018</td>\n",
       "      <td>United States</td>\n",
       "      <td>Major Cardiovascular Disease</td>\n",
       "      <td>Major cardiovascular disease hospitalization r...</td>\n",
       "      <td>Rate per 100,000</td>\n",
       "      <td>2482.3</td>\n",
       "      <td>2482.3</td>\n",
       "      <td>2438.9</td>\n",
       "      <td>2526.4</td>\n",
       "      <td>Race</td>\n",
       "      <td>Unknown</td>\n",
       "      <td>C1</td>\n",
       "      <td>T1</td>\n",
       "      <td>MD101</td>\n",
       "      <td>BOC04</td>\n",
       "      <td>RAC08</td>\n",
       "      <td>59</td>\n",
       "      <td>NaN</td>\n",
       "      <td>NaN</td>\n",
       "      <td>NaN</td>\n",
       "    </tr>\n",
       "    <tr>\n",
       "      <th>3</th>\n",
       "      <td>2019</td>\n",
       "      <td>United States</td>\n",
       "      <td>Major Cardiovascular Disease</td>\n",
       "      <td>Major cardiovascular disease hospitalization r...</td>\n",
       "      <td>Rate per 100,000</td>\n",
       "      <td>5395.0</td>\n",
       "      <td>5395.0</td>\n",
       "      <td>5381.7</td>\n",
       "      <td>5408.2</td>\n",
       "      <td>Gender</td>\n",
       "      <td>Male</td>\n",
       "      <td>C1</td>\n",
       "      <td>T1</td>\n",
       "      <td>MD101</td>\n",
       "      <td>BOC02</td>\n",
       "      <td>GEN01</td>\n",
       "      <td>59</td>\n",
       "      <td>NaN</td>\n",
       "      <td>NaN</td>\n",
       "      <td>NaN</td>\n",
       "    </tr>\n",
       "    <tr>\n",
       "      <th>4</th>\n",
       "      <td>2020</td>\n",
       "      <td>United States</td>\n",
       "      <td>Major Cardiovascular Disease</td>\n",
       "      <td>Major cardiovascular disease hospitalization r...</td>\n",
       "      <td>Rate per 100,000</td>\n",
       "      <td>4505.4</td>\n",
       "      <td>4505.4</td>\n",
       "      <td>4493.3</td>\n",
       "      <td>4517.5</td>\n",
       "      <td>Gender</td>\n",
       "      <td>Male</td>\n",
       "      <td>C1</td>\n",
       "      <td>T1</td>\n",
       "      <td>MD101</td>\n",
       "      <td>BOC02</td>\n",
       "      <td>GEN01</td>\n",
       "      <td>59</td>\n",
       "      <td>NaN</td>\n",
       "      <td>NaN</td>\n",
       "      <td>NaN</td>\n",
       "    </tr>\n",
       "  </tbody>\n",
       "</table>\n",
       "</div>"
      ],
      "text/plain": [
       "   YearStart   LocationDesc                         Topic  \\\n",
       "0       2016  United States  Major Cardiovascular Disease   \n",
       "1       2017  United States  Major Cardiovascular Disease   \n",
       "2       2018  United States  Major Cardiovascular Disease   \n",
       "3       2019  United States  Major Cardiovascular Disease   \n",
       "4       2020  United States  Major Cardiovascular Disease   \n",
       "\n",
       "                                            Question   Data_Value_Unit  \\\n",
       "0  Major cardiovascular disease hospitalization r...  Rate per 100,000   \n",
       "1  Major cardiovascular disease hospitalization r...  Rate per 100,000   \n",
       "2  Major cardiovascular disease hospitalization r...  Rate per 100,000   \n",
       "3  Major cardiovascular disease hospitalization r...  Rate per 100,000   \n",
       "4  Major cardiovascular disease hospitalization r...  Rate per 100,000   \n",
       "\n",
       "   Data_Value  Data_Value_Alt  Low_Confidence_Limit  High_Confidence_Limit  \\\n",
       "0      2367.6          2367.6                2318.3                 2417.9   \n",
       "1      2403.7          2403.7                2358.1                 2450.2   \n",
       "2      2482.3          2482.3                2438.9                 2526.4   \n",
       "3      5395.0          5395.0                5381.7                 5408.2   \n",
       "4      4505.4          4505.4                4493.3                 4517.5   \n",
       "\n",
       "  Break_Out_Category Break_Out ClassId TopicId QuestionId BreakOutCategoryId  \\\n",
       "0               Race   Unknown      C1      T1      MD101              BOC04   \n",
       "1               Race   Unknown      C1      T1      MD101              BOC04   \n",
       "2               Race   Unknown      C1      T1      MD101              BOC04   \n",
       "3             Gender      Male      C1      T1      MD101              BOC02   \n",
       "4             Gender      Male      C1      T1      MD101              BOC02   \n",
       "\n",
       "  BreakOutId  LocationId GeoLocation  Longitude  Latitude  \n",
       "0      RAC08          59         NaN        NaN       NaN  \n",
       "1      RAC08          59         NaN        NaN       NaN  \n",
       "2      RAC08          59         NaN        NaN       NaN  \n",
       "3      GEN01          59         NaN        NaN       NaN  \n",
       "4      GEN01          59         NaN        NaN       NaN  "
      ]
     },
     "execution_count": 271,
     "metadata": {},
     "output_type": "execute_result"
    }
   ],
   "source": [
    "data.head(5)"
   ]
  },
  {
   "cell_type": "code",
   "execution_count": 272,
   "metadata": {},
   "outputs": [
    {
     "data": {
      "text/plain": [
       "Question\n",
       "Major cardiovascular disease hospitalization rate among Medicare Fee-For-Service beneficiaries (65+); CMS Medicare                                                   2814\n",
       "Diseases of the heart (heart disease) hospitalization rate among Medicare beneficiaries (65+); CMS Medicare                                                          2814\n",
       "Coronary heart disease hospitalization rate among Medicare beneficiaries (65+); CMS Medicare                                                                         2814\n",
       "Heart failure hospitalization rate among Medicare Fee-For-Service beneficiaries (65+); CMS Medicare                                                                  2814\n",
       "Acute myocardial infarction (heart attack) hospitalization rate among Medicare Fee-For-Service beneficiaries (65+); CMS Medicare                                     2814\n",
       "Cerebrovascular disease (stroke) hospitalization rate among Medicare Fee-For-Service beneficiaries (65+); CMS Medicare                                               2814\n",
       "Prevalence of in-hospital mortality among major cardiovascular disease hospitalizations, Medicare Fee-For-Service beneficiaries (65+); CMS Medicare                  2812\n",
       "Prevalence of in-hospital mortality among diseases of the heart (heart disease) hospitalizations, Medicare Fee-For-Service beneficiaries (65+); CMS Medicare         2806\n",
       "Prevalence of in-hospital mortality among cerebrovascular disease (stroke) hospitalizations, Medicare Fee-For-Service beneficiaries (65+); CMS Medicare              2792\n",
       "Prevalence of in-hospital mortality among coronary heart disease hospitalizations, Medicare Fee-For-Service beneficiaries (65+); CMS Medicare                        2779\n",
       "Prevalence of in-hospital mortality among acute myocardial infarction (heart attack) hospitalizations, Medicare Fee-For-Service beneficiaries (65+); CMS Medicare    2770\n",
       "Prevalence of in-hospital mortality among heart failure hospitalizations, Medicare Fee-For-Service beneficiaries (65+); CMS Medicare                                 2611\n",
       "Name: count, dtype: int64"
      ]
     },
     "execution_count": 272,
     "metadata": {},
     "output_type": "execute_result"
    }
   ],
   "source": [
    "data['Question'].value_counts()"
   ]
  },
  {
   "cell_type": "markdown",
   "metadata": {},
   "source": [
    "## Making the questions more clear"
   ]
  },
  {
   "cell_type": "code",
   "execution_count": 273,
   "metadata": {},
   "outputs": [
    {
     "name": "stderr",
     "output_type": "stream",
     "text": [
      "C:\\Users\\karee\\AppData\\Local\\Temp\\ipykernel_9780\\1640811112.py:1: FutureWarning: A value is trying to be set on a copy of a DataFrame or Series through chained assignment using an inplace method.\n",
      "The behavior will change in pandas 3.0. This inplace method will never work because the intermediate object on which we are setting values always behaves as a copy.\n",
      "\n",
      "For example, when doing 'df[col].method(value, inplace=True)', try using 'df.method({col: value}, inplace=True)' or df[col] = df[col].method(value) instead, to perform the operation inplace on the original object.\n",
      "\n",
      "\n",
      "  data['Question'].replace('Major cardiovascular disease hospitalization rate among Medicare Fee-For-Service beneficiaries (65+); CMS Medicare' , 'Major hospitalization rate',inplace=True)\n",
      "C:\\Users\\karee\\AppData\\Local\\Temp\\ipykernel_9780\\1640811112.py:2: FutureWarning: A value is trying to be set on a copy of a DataFrame or Series through chained assignment using an inplace method.\n",
      "The behavior will change in pandas 3.0. This inplace method will never work because the intermediate object on which we are setting values always behaves as a copy.\n",
      "\n",
      "For example, when doing 'df[col].method(value, inplace=True)', try using 'df.method({col: value}, inplace=True)' or df[col] = df[col].method(value) instead, to perform the operation inplace on the original object.\n",
      "\n",
      "\n",
      "  data['Question'].replace('Prevalence of in-hospital mortality among major cardiovascular disease hospitalizations, Medicare Fee-For-Service beneficiaries (65+); CMS Medicare' , 'Major mortality rate',inplace=True)\n",
      "C:\\Users\\karee\\AppData\\Local\\Temp\\ipykernel_9780\\1640811112.py:3: FutureWarning: A value is trying to be set on a copy of a DataFrame or Series through chained assignment using an inplace method.\n",
      "The behavior will change in pandas 3.0. This inplace method will never work because the intermediate object on which we are setting values always behaves as a copy.\n",
      "\n",
      "For example, when doing 'df[col].method(value, inplace=True)', try using 'df.method({col: value}, inplace=True)' or df[col] = df[col].method(value) instead, to perform the operation inplace on the original object.\n",
      "\n",
      "\n",
      "  data['Question'].replace('Diseases of the heart (heart disease) hospitalization rate among Medicare beneficiaries (65+); CMS Medicare' , 'heart disease hospitalization rate',inplace=True)\n",
      "C:\\Users\\karee\\AppData\\Local\\Temp\\ipykernel_9780\\1640811112.py:4: FutureWarning: A value is trying to be set on a copy of a DataFrame or Series through chained assignment using an inplace method.\n",
      "The behavior will change in pandas 3.0. This inplace method will never work because the intermediate object on which we are setting values always behaves as a copy.\n",
      "\n",
      "For example, when doing 'df[col].method(value, inplace=True)', try using 'df.method({col: value}, inplace=True)' or df[col] = df[col].method(value) instead, to perform the operation inplace on the original object.\n",
      "\n",
      "\n",
      "  data['Question'].replace('Prevalence of in-hospital mortality among diseases of the heart (heart disease) hospitalizations, Medicare Fee-For-Service beneficiaries (65+); CMS Medicare', 'heart diseases mortality rate' , inplace=True)\n",
      "C:\\Users\\karee\\AppData\\Local\\Temp\\ipykernel_9780\\1640811112.py:5: FutureWarning: A value is trying to be set on a copy of a DataFrame or Series through chained assignment using an inplace method.\n",
      "The behavior will change in pandas 3.0. This inplace method will never work because the intermediate object on which we are setting values always behaves as a copy.\n",
      "\n",
      "For example, when doing 'df[col].method(value, inplace=True)', try using 'df.method({col: value}, inplace=True)' or df[col] = df[col].method(value) instead, to perform the operation inplace on the original object.\n",
      "\n",
      "\n",
      "  data['Question'].replace('Coronary heart disease hospitalization rate among Medicare beneficiaries (65+); CMS Medicare' , 'Coronary hospitalization rate' , inplace=True)\n",
      "C:\\Users\\karee\\AppData\\Local\\Temp\\ipykernel_9780\\1640811112.py:6: FutureWarning: A value is trying to be set on a copy of a DataFrame or Series through chained assignment using an inplace method.\n",
      "The behavior will change in pandas 3.0. This inplace method will never work because the intermediate object on which we are setting values always behaves as a copy.\n",
      "\n",
      "For example, when doing 'df[col].method(value, inplace=True)', try using 'df.method({col: value}, inplace=True)' or df[col] = df[col].method(value) instead, to perform the operation inplace on the original object.\n",
      "\n",
      "\n",
      "  data['Question'].replace('Heart failure hospitalization rate among Medicare Fee-For-Service beneficiaries (65+); CMS Medicare' , 'Heart Faliure hospitalization rate' , inplace=True)\n",
      "C:\\Users\\karee\\AppData\\Local\\Temp\\ipykernel_9780\\1640811112.py:7: FutureWarning: A value is trying to be set on a copy of a DataFrame or Series through chained assignment using an inplace method.\n",
      "The behavior will change in pandas 3.0. This inplace method will never work because the intermediate object on which we are setting values always behaves as a copy.\n",
      "\n",
      "For example, when doing 'df[col].method(value, inplace=True)', try using 'df.method({col: value}, inplace=True)' or df[col] = df[col].method(value) instead, to perform the operation inplace on the original object.\n",
      "\n",
      "\n",
      "  data['Question'].replace('Prevalence of in-hospital mortality among coronary heart disease hospitalizations, Medicare Fee-For-Service beneficiaries (65+); CMS Medicare','Coronary mortality rate',inplace=True)\n",
      "C:\\Users\\karee\\AppData\\Local\\Temp\\ipykernel_9780\\1640811112.py:8: FutureWarning: A value is trying to be set on a copy of a DataFrame or Series through chained assignment using an inplace method.\n",
      "The behavior will change in pandas 3.0. This inplace method will never work because the intermediate object on which we are setting values always behaves as a copy.\n",
      "\n",
      "For example, when doing 'df[col].method(value, inplace=True)', try using 'df.method({col: value}, inplace=True)' or df[col] = df[col].method(value) instead, to perform the operation inplace on the original object.\n",
      "\n",
      "\n",
      "  data['Question'].replace('Prevalence of in-hospital mortality among heart failure hospitalizations, Medicare Fee-For-Service beneficiaries (65+); CMS Medicare','Heart faliure mortality rate',inplace=True)\n",
      "C:\\Users\\karee\\AppData\\Local\\Temp\\ipykernel_9780\\1640811112.py:9: FutureWarning: A value is trying to be set on a copy of a DataFrame or Series through chained assignment using an inplace method.\n",
      "The behavior will change in pandas 3.0. This inplace method will never work because the intermediate object on which we are setting values always behaves as a copy.\n",
      "\n",
      "For example, when doing 'df[col].method(value, inplace=True)', try using 'df.method({col: value}, inplace=True)' or df[col] = df[col].method(value) instead, to perform the operation inplace on the original object.\n",
      "\n",
      "\n",
      "  data['Question'].replace('Acute myocardial infarction (heart attack) hospitalization rate among Medicare Fee-For-Service beneficiaries (65+); CMS Medicare','Heart attack hospitalization rate',inplace=True)\n",
      "C:\\Users\\karee\\AppData\\Local\\Temp\\ipykernel_9780\\1640811112.py:10: FutureWarning: A value is trying to be set on a copy of a DataFrame or Series through chained assignment using an inplace method.\n",
      "The behavior will change in pandas 3.0. This inplace method will never work because the intermediate object on which we are setting values always behaves as a copy.\n",
      "\n",
      "For example, when doing 'df[col].method(value, inplace=True)', try using 'df.method({col: value}, inplace=True)' or df[col] = df[col].method(value) instead, to perform the operation inplace on the original object.\n",
      "\n",
      "\n",
      "  data['Question'].replace('Prevalence of in-hospital mortality among acute myocardial infarction (heart attack) hospitalizations, Medicare Fee-For-Service beneficiaries (65+); CMS Medicare','Heart attack mortality rate',inplace=True)\n",
      "C:\\Users\\karee\\AppData\\Local\\Temp\\ipykernel_9780\\1640811112.py:11: FutureWarning: A value is trying to be set on a copy of a DataFrame or Series through chained assignment using an inplace method.\n",
      "The behavior will change in pandas 3.0. This inplace method will never work because the intermediate object on which we are setting values always behaves as a copy.\n",
      "\n",
      "For example, when doing 'df[col].method(value, inplace=True)', try using 'df.method({col: value}, inplace=True)' or df[col] = df[col].method(value) instead, to perform the operation inplace on the original object.\n",
      "\n",
      "\n",
      "  data['Question'].replace('Cerebrovascular disease (stroke) hospitalization rate among Medicare Fee-For-Service beneficiaries (65+); CMS Medicare','Stroke hospitalization rate',inplace=True)\n",
      "C:\\Users\\karee\\AppData\\Local\\Temp\\ipykernel_9780\\1640811112.py:12: FutureWarning: A value is trying to be set on a copy of a DataFrame or Series through chained assignment using an inplace method.\n",
      "The behavior will change in pandas 3.0. This inplace method will never work because the intermediate object on which we are setting values always behaves as a copy.\n",
      "\n",
      "For example, when doing 'df[col].method(value, inplace=True)', try using 'df.method({col: value}, inplace=True)' or df[col] = df[col].method(value) instead, to perform the operation inplace on the original object.\n",
      "\n",
      "\n",
      "  data['Question'].replace('Prevalence of in-hospital mortality among cerebrovascular disease (stroke) hospitalizations, Medicare Fee-For-Service beneficiaries (65+); CMS Medicare','Stroke mortality rate',inplace=True)\n"
     ]
    }
   ],
   "source": [
    "data['Question'].replace('Major cardiovascular disease hospitalization rate among Medicare Fee-For-Service beneficiaries (65+); CMS Medicare' , 'Major hospitalization rate',inplace=True)\n",
    "data['Question'].replace('Prevalence of in-hospital mortality among major cardiovascular disease hospitalizations, Medicare Fee-For-Service beneficiaries (65+); CMS Medicare' , 'Major mortality rate',inplace=True)\n",
    "data['Question'].replace('Diseases of the heart (heart disease) hospitalization rate among Medicare beneficiaries (65+); CMS Medicare' , 'heart disease hospitalization rate',inplace=True)\n",
    "data['Question'].replace('Prevalence of in-hospital mortality among diseases of the heart (heart disease) hospitalizations, Medicare Fee-For-Service beneficiaries (65+); CMS Medicare', 'heart diseases mortality rate' , inplace=True)\n",
    "data['Question'].replace('Coronary heart disease hospitalization rate among Medicare beneficiaries (65+); CMS Medicare' , 'Coronary hospitalization rate' , inplace=True)\n",
    "data['Question'].replace('Heart failure hospitalization rate among Medicare Fee-For-Service beneficiaries (65+); CMS Medicare' , 'Heart Faliure hospitalization rate' , inplace=True)\n",
    "data['Question'].replace('Prevalence of in-hospital mortality among coronary heart disease hospitalizations, Medicare Fee-For-Service beneficiaries (65+); CMS Medicare','Coronary mortality rate',inplace=True)\n",
    "data['Question'].replace('Prevalence of in-hospital mortality among heart failure hospitalizations, Medicare Fee-For-Service beneficiaries (65+); CMS Medicare','Heart faliure mortality rate',inplace=True)\n",
    "data['Question'].replace('Acute myocardial infarction (heart attack) hospitalization rate among Medicare Fee-For-Service beneficiaries (65+); CMS Medicare','Heart attack hospitalization rate',inplace=True)\n",
    "data['Question'].replace('Prevalence of in-hospital mortality among acute myocardial infarction (heart attack) hospitalizations, Medicare Fee-For-Service beneficiaries (65+); CMS Medicare','Heart attack mortality rate',inplace=True)\n",
    "data['Question'].replace('Cerebrovascular disease (stroke) hospitalization rate among Medicare Fee-For-Service beneficiaries (65+); CMS Medicare','Stroke hospitalization rate',inplace=True)\n",
    "data['Question'].replace('Prevalence of in-hospital mortality among cerebrovascular disease (stroke) hospitalizations, Medicare Fee-For-Service beneficiaries (65+); CMS Medicare','Stroke mortality rate',inplace=True)\n"
   ]
  },
  {
   "cell_type": "code",
   "execution_count": 274,
   "metadata": {},
   "outputs": [
    {
     "data": {
      "text/html": [
       "<div>\n",
       "<style scoped>\n",
       "    .dataframe tbody tr th:only-of-type {\n",
       "        vertical-align: middle;\n",
       "    }\n",
       "\n",
       "    .dataframe tbody tr th {\n",
       "        vertical-align: top;\n",
       "    }\n",
       "\n",
       "    .dataframe thead th {\n",
       "        text-align: right;\n",
       "    }\n",
       "</style>\n",
       "<table border=\"1\" class=\"dataframe\">\n",
       "  <thead>\n",
       "    <tr style=\"text-align: right;\">\n",
       "      <th></th>\n",
       "      <th>YearStart</th>\n",
       "      <th>LocationDesc</th>\n",
       "      <th>Topic</th>\n",
       "      <th>Question</th>\n",
       "      <th>Data_Value_Unit</th>\n",
       "      <th>Data_Value</th>\n",
       "      <th>Data_Value_Alt</th>\n",
       "      <th>Low_Confidence_Limit</th>\n",
       "      <th>High_Confidence_Limit</th>\n",
       "      <th>Break_Out_Category</th>\n",
       "      <th>Break_Out</th>\n",
       "      <th>ClassId</th>\n",
       "      <th>TopicId</th>\n",
       "      <th>QuestionId</th>\n",
       "      <th>BreakOutCategoryId</th>\n",
       "      <th>BreakOutId</th>\n",
       "      <th>LocationId</th>\n",
       "      <th>GeoLocation</th>\n",
       "      <th>Longitude</th>\n",
       "      <th>Latitude</th>\n",
       "    </tr>\n",
       "  </thead>\n",
       "  <tbody>\n",
       "    <tr>\n",
       "      <th>0</th>\n",
       "      <td>2016</td>\n",
       "      <td>United States</td>\n",
       "      <td>Major Cardiovascular Disease</td>\n",
       "      <td>Major hospitalization rate</td>\n",
       "      <td>Rate per 100,000</td>\n",
       "      <td>2367.6</td>\n",
       "      <td>2367.6</td>\n",
       "      <td>2318.3</td>\n",
       "      <td>2417.9</td>\n",
       "      <td>Race</td>\n",
       "      <td>Unknown</td>\n",
       "      <td>C1</td>\n",
       "      <td>T1</td>\n",
       "      <td>MD101</td>\n",
       "      <td>BOC04</td>\n",
       "      <td>RAC08</td>\n",
       "      <td>59</td>\n",
       "      <td>NaN</td>\n",
       "      <td>NaN</td>\n",
       "      <td>NaN</td>\n",
       "    </tr>\n",
       "    <tr>\n",
       "      <th>1</th>\n",
       "      <td>2017</td>\n",
       "      <td>United States</td>\n",
       "      <td>Major Cardiovascular Disease</td>\n",
       "      <td>Major hospitalization rate</td>\n",
       "      <td>Rate per 100,000</td>\n",
       "      <td>2403.7</td>\n",
       "      <td>2403.7</td>\n",
       "      <td>2358.1</td>\n",
       "      <td>2450.2</td>\n",
       "      <td>Race</td>\n",
       "      <td>Unknown</td>\n",
       "      <td>C1</td>\n",
       "      <td>T1</td>\n",
       "      <td>MD101</td>\n",
       "      <td>BOC04</td>\n",
       "      <td>RAC08</td>\n",
       "      <td>59</td>\n",
       "      <td>NaN</td>\n",
       "      <td>NaN</td>\n",
       "      <td>NaN</td>\n",
       "    </tr>\n",
       "    <tr>\n",
       "      <th>2</th>\n",
       "      <td>2018</td>\n",
       "      <td>United States</td>\n",
       "      <td>Major Cardiovascular Disease</td>\n",
       "      <td>Major hospitalization rate</td>\n",
       "      <td>Rate per 100,000</td>\n",
       "      <td>2482.3</td>\n",
       "      <td>2482.3</td>\n",
       "      <td>2438.9</td>\n",
       "      <td>2526.4</td>\n",
       "      <td>Race</td>\n",
       "      <td>Unknown</td>\n",
       "      <td>C1</td>\n",
       "      <td>T1</td>\n",
       "      <td>MD101</td>\n",
       "      <td>BOC04</td>\n",
       "      <td>RAC08</td>\n",
       "      <td>59</td>\n",
       "      <td>NaN</td>\n",
       "      <td>NaN</td>\n",
       "      <td>NaN</td>\n",
       "    </tr>\n",
       "    <tr>\n",
       "      <th>3</th>\n",
       "      <td>2019</td>\n",
       "      <td>United States</td>\n",
       "      <td>Major Cardiovascular Disease</td>\n",
       "      <td>Major hospitalization rate</td>\n",
       "      <td>Rate per 100,000</td>\n",
       "      <td>5395.0</td>\n",
       "      <td>5395.0</td>\n",
       "      <td>5381.7</td>\n",
       "      <td>5408.2</td>\n",
       "      <td>Gender</td>\n",
       "      <td>Male</td>\n",
       "      <td>C1</td>\n",
       "      <td>T1</td>\n",
       "      <td>MD101</td>\n",
       "      <td>BOC02</td>\n",
       "      <td>GEN01</td>\n",
       "      <td>59</td>\n",
       "      <td>NaN</td>\n",
       "      <td>NaN</td>\n",
       "      <td>NaN</td>\n",
       "    </tr>\n",
       "    <tr>\n",
       "      <th>4</th>\n",
       "      <td>2020</td>\n",
       "      <td>United States</td>\n",
       "      <td>Major Cardiovascular Disease</td>\n",
       "      <td>Major hospitalization rate</td>\n",
       "      <td>Rate per 100,000</td>\n",
       "      <td>4505.4</td>\n",
       "      <td>4505.4</td>\n",
       "      <td>4493.3</td>\n",
       "      <td>4517.5</td>\n",
       "      <td>Gender</td>\n",
       "      <td>Male</td>\n",
       "      <td>C1</td>\n",
       "      <td>T1</td>\n",
       "      <td>MD101</td>\n",
       "      <td>BOC02</td>\n",
       "      <td>GEN01</td>\n",
       "      <td>59</td>\n",
       "      <td>NaN</td>\n",
       "      <td>NaN</td>\n",
       "      <td>NaN</td>\n",
       "    </tr>\n",
       "  </tbody>\n",
       "</table>\n",
       "</div>"
      ],
      "text/plain": [
       "   YearStart   LocationDesc                         Topic  \\\n",
       "0       2016  United States  Major Cardiovascular Disease   \n",
       "1       2017  United States  Major Cardiovascular Disease   \n",
       "2       2018  United States  Major Cardiovascular Disease   \n",
       "3       2019  United States  Major Cardiovascular Disease   \n",
       "4       2020  United States  Major Cardiovascular Disease   \n",
       "\n",
       "                     Question   Data_Value_Unit  Data_Value  Data_Value_Alt  \\\n",
       "0  Major hospitalization rate  Rate per 100,000      2367.6          2367.6   \n",
       "1  Major hospitalization rate  Rate per 100,000      2403.7          2403.7   \n",
       "2  Major hospitalization rate  Rate per 100,000      2482.3          2482.3   \n",
       "3  Major hospitalization rate  Rate per 100,000      5395.0          5395.0   \n",
       "4  Major hospitalization rate  Rate per 100,000      4505.4          4505.4   \n",
       "\n",
       "   Low_Confidence_Limit  High_Confidence_Limit Break_Out_Category Break_Out  \\\n",
       "0                2318.3                 2417.9               Race   Unknown   \n",
       "1                2358.1                 2450.2               Race   Unknown   \n",
       "2                2438.9                 2526.4               Race   Unknown   \n",
       "3                5381.7                 5408.2             Gender      Male   \n",
       "4                4493.3                 4517.5             Gender      Male   \n",
       "\n",
       "  ClassId TopicId QuestionId BreakOutCategoryId BreakOutId  LocationId  \\\n",
       "0      C1      T1      MD101              BOC04      RAC08          59   \n",
       "1      C1      T1      MD101              BOC04      RAC08          59   \n",
       "2      C1      T1      MD101              BOC04      RAC08          59   \n",
       "3      C1      T1      MD101              BOC02      GEN01          59   \n",
       "4      C1      T1      MD101              BOC02      GEN01          59   \n",
       "\n",
       "  GeoLocation  Longitude  Latitude  \n",
       "0         NaN        NaN       NaN  \n",
       "1         NaN        NaN       NaN  \n",
       "2         NaN        NaN       NaN  \n",
       "3         NaN        NaN       NaN  \n",
       "4         NaN        NaN       NaN  "
      ]
     },
     "execution_count": 274,
     "metadata": {},
     "output_type": "execute_result"
    }
   ],
   "source": [
    "data.head(5)"
   ]
  },
  {
   "cell_type": "code",
   "execution_count": 275,
   "metadata": {},
   "outputs": [
    {
     "data": {
      "text/plain": [
       "Question\n",
       "Major hospitalization rate            2814\n",
       "heart disease hospitalization rate    2814\n",
       "Coronary hospitalization rate         2814\n",
       "Heart Faliure hospitalization rate    2814\n",
       "Heart attack hospitalization rate     2814\n",
       "Stroke hospitalization rate           2814\n",
       "Major mortality rate                  2812\n",
       "heart diseases mortality rate         2806\n",
       "Stroke mortality rate                 2792\n",
       "Coronary mortality rate               2779\n",
       "Heart attack mortality rate           2770\n",
       "Heart faliure mortality rate          2611\n",
       "Name: count, dtype: int64"
      ]
     },
     "execution_count": 275,
     "metadata": {},
     "output_type": "execute_result"
    }
   ],
   "source": [
    "data['Question'].value_counts()"
   ]
  },
  {
   "cell_type": "markdown",
   "metadata": {},
   "source": [
    "## Taking only the questions about the hospitalization rate"
   ]
  },
  {
   "cell_type": "code",
   "execution_count": 276,
   "metadata": {},
   "outputs": [
    {
     "data": {
      "text/plain": [
       "['Major hospitalization rate',\n",
       " 'heart disease hospitalization rate',\n",
       " 'Coronary hospitalization rate',\n",
       " 'Heart Faliure hospitalization rate',\n",
       " 'Heart attack hospitalization rate',\n",
       " 'Stroke hospitalization rate']"
      ]
     },
     "execution_count": 276,
     "metadata": {},
     "output_type": "execute_result"
    }
   ],
   "source": [
    "all_questions = data['Question'].value_counts().index.tolist()\n",
    "hospitalization_questions = [q for q in all_questions if 'hospitalization' in q.lower()]\n",
    "hospitalization_questions"
   ]
  },
  {
   "cell_type": "code",
   "execution_count": 277,
   "metadata": {},
   "outputs": [
    {
     "data": {
      "text/html": [
       "<div>\n",
       "<style scoped>\n",
       "    .dataframe tbody tr th:only-of-type {\n",
       "        vertical-align: middle;\n",
       "    }\n",
       "\n",
       "    .dataframe tbody tr th {\n",
       "        vertical-align: top;\n",
       "    }\n",
       "\n",
       "    .dataframe thead th {\n",
       "        text-align: right;\n",
       "    }\n",
       "</style>\n",
       "<table border=\"1\" class=\"dataframe\">\n",
       "  <thead>\n",
       "    <tr style=\"text-align: right;\">\n",
       "      <th></th>\n",
       "      <th>YearStart</th>\n",
       "      <th>LocationDesc</th>\n",
       "      <th>Topic</th>\n",
       "      <th>Question</th>\n",
       "      <th>Data_Value_Unit</th>\n",
       "      <th>Data_Value</th>\n",
       "      <th>Data_Value_Alt</th>\n",
       "      <th>Low_Confidence_Limit</th>\n",
       "      <th>High_Confidence_Limit</th>\n",
       "      <th>Break_Out_Category</th>\n",
       "      <th>Break_Out</th>\n",
       "      <th>ClassId</th>\n",
       "      <th>TopicId</th>\n",
       "      <th>QuestionId</th>\n",
       "      <th>BreakOutCategoryId</th>\n",
       "      <th>BreakOutId</th>\n",
       "      <th>LocationId</th>\n",
       "      <th>GeoLocation</th>\n",
       "      <th>Longitude</th>\n",
       "      <th>Latitude</th>\n",
       "    </tr>\n",
       "  </thead>\n",
       "  <tbody>\n",
       "    <tr>\n",
       "      <th>0</th>\n",
       "      <td>2016</td>\n",
       "      <td>United States</td>\n",
       "      <td>Major Cardiovascular Disease</td>\n",
       "      <td>Major hospitalization rate</td>\n",
       "      <td>Rate per 100,000</td>\n",
       "      <td>2367.6</td>\n",
       "      <td>2367.6</td>\n",
       "      <td>2318.3</td>\n",
       "      <td>2417.9</td>\n",
       "      <td>Race</td>\n",
       "      <td>Unknown</td>\n",
       "      <td>C1</td>\n",
       "      <td>T1</td>\n",
       "      <td>MD101</td>\n",
       "      <td>BOC04</td>\n",
       "      <td>RAC08</td>\n",
       "      <td>59</td>\n",
       "      <td>NaN</td>\n",
       "      <td>NaN</td>\n",
       "      <td>NaN</td>\n",
       "    </tr>\n",
       "    <tr>\n",
       "      <th>1</th>\n",
       "      <td>2017</td>\n",
       "      <td>United States</td>\n",
       "      <td>Major Cardiovascular Disease</td>\n",
       "      <td>Major hospitalization rate</td>\n",
       "      <td>Rate per 100,000</td>\n",
       "      <td>2403.7</td>\n",
       "      <td>2403.7</td>\n",
       "      <td>2358.1</td>\n",
       "      <td>2450.2</td>\n",
       "      <td>Race</td>\n",
       "      <td>Unknown</td>\n",
       "      <td>C1</td>\n",
       "      <td>T1</td>\n",
       "      <td>MD101</td>\n",
       "      <td>BOC04</td>\n",
       "      <td>RAC08</td>\n",
       "      <td>59</td>\n",
       "      <td>NaN</td>\n",
       "      <td>NaN</td>\n",
       "      <td>NaN</td>\n",
       "    </tr>\n",
       "    <tr>\n",
       "      <th>2</th>\n",
       "      <td>2018</td>\n",
       "      <td>United States</td>\n",
       "      <td>Major Cardiovascular Disease</td>\n",
       "      <td>Major hospitalization rate</td>\n",
       "      <td>Rate per 100,000</td>\n",
       "      <td>2482.3</td>\n",
       "      <td>2482.3</td>\n",
       "      <td>2438.9</td>\n",
       "      <td>2526.4</td>\n",
       "      <td>Race</td>\n",
       "      <td>Unknown</td>\n",
       "      <td>C1</td>\n",
       "      <td>T1</td>\n",
       "      <td>MD101</td>\n",
       "      <td>BOC04</td>\n",
       "      <td>RAC08</td>\n",
       "      <td>59</td>\n",
       "      <td>NaN</td>\n",
       "      <td>NaN</td>\n",
       "      <td>NaN</td>\n",
       "    </tr>\n",
       "    <tr>\n",
       "      <th>3</th>\n",
       "      <td>2019</td>\n",
       "      <td>United States</td>\n",
       "      <td>Major Cardiovascular Disease</td>\n",
       "      <td>Major hospitalization rate</td>\n",
       "      <td>Rate per 100,000</td>\n",
       "      <td>5395.0</td>\n",
       "      <td>5395.0</td>\n",
       "      <td>5381.7</td>\n",
       "      <td>5408.2</td>\n",
       "      <td>Gender</td>\n",
       "      <td>Male</td>\n",
       "      <td>C1</td>\n",
       "      <td>T1</td>\n",
       "      <td>MD101</td>\n",
       "      <td>BOC02</td>\n",
       "      <td>GEN01</td>\n",
       "      <td>59</td>\n",
       "      <td>NaN</td>\n",
       "      <td>NaN</td>\n",
       "      <td>NaN</td>\n",
       "    </tr>\n",
       "    <tr>\n",
       "      <th>4</th>\n",
       "      <td>2020</td>\n",
       "      <td>United States</td>\n",
       "      <td>Major Cardiovascular Disease</td>\n",
       "      <td>Major hospitalization rate</td>\n",
       "      <td>Rate per 100,000</td>\n",
       "      <td>4505.4</td>\n",
       "      <td>4505.4</td>\n",
       "      <td>4493.3</td>\n",
       "      <td>4517.5</td>\n",
       "      <td>Gender</td>\n",
       "      <td>Male</td>\n",
       "      <td>C1</td>\n",
       "      <td>T1</td>\n",
       "      <td>MD101</td>\n",
       "      <td>BOC02</td>\n",
       "      <td>GEN01</td>\n",
       "      <td>59</td>\n",
       "      <td>NaN</td>\n",
       "      <td>NaN</td>\n",
       "      <td>NaN</td>\n",
       "    </tr>\n",
       "    <tr>\n",
       "      <th>...</th>\n",
       "      <td>...</td>\n",
       "      <td>...</td>\n",
       "      <td>...</td>\n",
       "      <td>...</td>\n",
       "      <td>...</td>\n",
       "      <td>...</td>\n",
       "      <td>...</td>\n",
       "      <td>...</td>\n",
       "      <td>...</td>\n",
       "      <td>...</td>\n",
       "      <td>...</td>\n",
       "      <td>...</td>\n",
       "      <td>...</td>\n",
       "      <td>...</td>\n",
       "      <td>...</td>\n",
       "      <td>...</td>\n",
       "      <td>...</td>\n",
       "      <td>...</td>\n",
       "      <td>...</td>\n",
       "      <td>...</td>\n",
       "    </tr>\n",
       "    <tr>\n",
       "      <th>33438</th>\n",
       "      <td>2017</td>\n",
       "      <td>Texas</td>\n",
       "      <td>Stroke</td>\n",
       "      <td>Stroke hospitalization rate</td>\n",
       "      <td>Rate per 100,000</td>\n",
       "      <td>1155.1</td>\n",
       "      <td>1155.1</td>\n",
       "      <td>1131.7</td>\n",
       "      <td>1179.0</td>\n",
       "      <td>Gender</td>\n",
       "      <td>Male</td>\n",
       "      <td>C1</td>\n",
       "      <td>T6</td>\n",
       "      <td>MD601</td>\n",
       "      <td>BOC02</td>\n",
       "      <td>GEN01</td>\n",
       "      <td>48</td>\n",
       "      <td>POINT (-99.42677021 31.82724041)</td>\n",
       "      <td>-99.426770</td>\n",
       "      <td>31.827240</td>\n",
       "    </tr>\n",
       "    <tr>\n",
       "      <th>33441</th>\n",
       "      <td>2017</td>\n",
       "      <td>Georgia</td>\n",
       "      <td>Stroke</td>\n",
       "      <td>Stroke hospitalization rate</td>\n",
       "      <td>Rate per 100,000</td>\n",
       "      <td>1004.7</td>\n",
       "      <td>1004.7</td>\n",
       "      <td>974.4</td>\n",
       "      <td>1035.9</td>\n",
       "      <td>Gender</td>\n",
       "      <td>Female</td>\n",
       "      <td>C1</td>\n",
       "      <td>T6</td>\n",
       "      <td>MD601</td>\n",
       "      <td>BOC02</td>\n",
       "      <td>GEN02</td>\n",
       "      <td>13</td>\n",
       "      <td>POINT (-83.62758035 32.83968109)</td>\n",
       "      <td>-83.627580</td>\n",
       "      <td>32.839681</td>\n",
       "    </tr>\n",
       "    <tr>\n",
       "      <th>33446</th>\n",
       "      <td>2016</td>\n",
       "      <td>Missouri</td>\n",
       "      <td>Stroke</td>\n",
       "      <td>Stroke hospitalization rate</td>\n",
       "      <td>Rate per 100,000</td>\n",
       "      <td>1621.7</td>\n",
       "      <td>1621.7</td>\n",
       "      <td>1573.1</td>\n",
       "      <td>1671.8</td>\n",
       "      <td>Age</td>\n",
       "      <td>75+</td>\n",
       "      <td>C1</td>\n",
       "      <td>T6</td>\n",
       "      <td>MD601</td>\n",
       "      <td>BOC03</td>\n",
       "      <td>AGE08</td>\n",
       "      <td>29</td>\n",
       "      <td>POINT (-92.56630005 38.63579078)</td>\n",
       "      <td>-92.566300</td>\n",
       "      <td>38.635791</td>\n",
       "    </tr>\n",
       "    <tr>\n",
       "      <th>33447</th>\n",
       "      <td>2018</td>\n",
       "      <td>Rhode Island</td>\n",
       "      <td>Stroke</td>\n",
       "      <td>Stroke hospitalization rate</td>\n",
       "      <td>Rate per 100,000</td>\n",
       "      <td>977.6</td>\n",
       "      <td>977.6</td>\n",
       "      <td>907.0</td>\n",
       "      <td>1053.6</td>\n",
       "      <td>Race</td>\n",
       "      <td>Non-Hispanic White</td>\n",
       "      <td>C1</td>\n",
       "      <td>T6</td>\n",
       "      <td>MD601</td>\n",
       "      <td>BOC04</td>\n",
       "      <td>RAC01</td>\n",
       "      <td>44</td>\n",
       "      <td>POINT (-71.52247031 41.70828019)</td>\n",
       "      <td>-71.522470</td>\n",
       "      <td>41.708280</td>\n",
       "    </tr>\n",
       "    <tr>\n",
       "      <th>33453</th>\n",
       "      <td>2021</td>\n",
       "      <td>New Mexico</td>\n",
       "      <td>Stroke</td>\n",
       "      <td>Stroke hospitalization rate</td>\n",
       "      <td>Rate per 100,000</td>\n",
       "      <td>588.2</td>\n",
       "      <td>588.2</td>\n",
       "      <td>541.6</td>\n",
       "      <td>638.8</td>\n",
       "      <td>Gender</td>\n",
       "      <td>Female</td>\n",
       "      <td>C1</td>\n",
       "      <td>T6</td>\n",
       "      <td>MD601</td>\n",
       "      <td>BOC02</td>\n",
       "      <td>GEN02</td>\n",
       "      <td>35</td>\n",
       "      <td>POINT (-106.240581 34.52088095)</td>\n",
       "      <td>-106.240581</td>\n",
       "      <td>34.520881</td>\n",
       "    </tr>\n",
       "  </tbody>\n",
       "</table>\n",
       "<p>16884 rows × 20 columns</p>\n",
       "</div>"
      ],
      "text/plain": [
       "       YearStart   LocationDesc                         Topic  \\\n",
       "0           2016  United States  Major Cardiovascular Disease   \n",
       "1           2017  United States  Major Cardiovascular Disease   \n",
       "2           2018  United States  Major Cardiovascular Disease   \n",
       "3           2019  United States  Major Cardiovascular Disease   \n",
       "4           2020  United States  Major Cardiovascular Disease   \n",
       "...          ...            ...                           ...   \n",
       "33438       2017          Texas                        Stroke   \n",
       "33441       2017        Georgia                        Stroke   \n",
       "33446       2016       Missouri                        Stroke   \n",
       "33447       2018   Rhode Island                        Stroke   \n",
       "33453       2021     New Mexico                        Stroke   \n",
       "\n",
       "                          Question   Data_Value_Unit  Data_Value  \\\n",
       "0       Major hospitalization rate  Rate per 100,000      2367.6   \n",
       "1       Major hospitalization rate  Rate per 100,000      2403.7   \n",
       "2       Major hospitalization rate  Rate per 100,000      2482.3   \n",
       "3       Major hospitalization rate  Rate per 100,000      5395.0   \n",
       "4       Major hospitalization rate  Rate per 100,000      4505.4   \n",
       "...                            ...               ...         ...   \n",
       "33438  Stroke hospitalization rate  Rate per 100,000      1155.1   \n",
       "33441  Stroke hospitalization rate  Rate per 100,000      1004.7   \n",
       "33446  Stroke hospitalization rate  Rate per 100,000      1621.7   \n",
       "33447  Stroke hospitalization rate  Rate per 100,000       977.6   \n",
       "33453  Stroke hospitalization rate  Rate per 100,000       588.2   \n",
       "\n",
       "       Data_Value_Alt  Low_Confidence_Limit  High_Confidence_Limit  \\\n",
       "0              2367.6                2318.3                 2417.9   \n",
       "1              2403.7                2358.1                 2450.2   \n",
       "2              2482.3                2438.9                 2526.4   \n",
       "3              5395.0                5381.7                 5408.2   \n",
       "4              4505.4                4493.3                 4517.5   \n",
       "...               ...                   ...                    ...   \n",
       "33438          1155.1                1131.7                 1179.0   \n",
       "33441          1004.7                 974.4                 1035.9   \n",
       "33446          1621.7                1573.1                 1671.8   \n",
       "33447           977.6                 907.0                 1053.6   \n",
       "33453           588.2                 541.6                  638.8   \n",
       "\n",
       "      Break_Out_Category           Break_Out ClassId TopicId QuestionId  \\\n",
       "0                   Race             Unknown      C1      T1      MD101   \n",
       "1                   Race             Unknown      C1      T1      MD101   \n",
       "2                   Race             Unknown      C1      T1      MD101   \n",
       "3                 Gender                Male      C1      T1      MD101   \n",
       "4                 Gender                Male      C1      T1      MD101   \n",
       "...                  ...                 ...     ...     ...        ...   \n",
       "33438             Gender                Male      C1      T6      MD601   \n",
       "33441             Gender              Female      C1      T6      MD601   \n",
       "33446                Age                 75+      C1      T6      MD601   \n",
       "33447               Race  Non-Hispanic White      C1      T6      MD601   \n",
       "33453             Gender              Female      C1      T6      MD601   \n",
       "\n",
       "      BreakOutCategoryId BreakOutId  LocationId  \\\n",
       "0                  BOC04      RAC08          59   \n",
       "1                  BOC04      RAC08          59   \n",
       "2                  BOC04      RAC08          59   \n",
       "3                  BOC02      GEN01          59   \n",
       "4                  BOC02      GEN01          59   \n",
       "...                  ...        ...         ...   \n",
       "33438              BOC02      GEN01          48   \n",
       "33441              BOC02      GEN02          13   \n",
       "33446              BOC03      AGE08          29   \n",
       "33447              BOC04      RAC01          44   \n",
       "33453              BOC02      GEN02          35   \n",
       "\n",
       "                            GeoLocation   Longitude   Latitude  \n",
       "0                                   NaN         NaN        NaN  \n",
       "1                                   NaN         NaN        NaN  \n",
       "2                                   NaN         NaN        NaN  \n",
       "3                                   NaN         NaN        NaN  \n",
       "4                                   NaN         NaN        NaN  \n",
       "...                                 ...         ...        ...  \n",
       "33438  POINT (-99.42677021 31.82724041)  -99.426770  31.827240  \n",
       "33441  POINT (-83.62758035 32.83968109)  -83.627580  32.839681  \n",
       "33446  POINT (-92.56630005 38.63579078)  -92.566300  38.635791  \n",
       "33447  POINT (-71.52247031 41.70828019)  -71.522470  41.708280  \n",
       "33453   POINT (-106.240581 34.52088095) -106.240581  34.520881  \n",
       "\n",
       "[16884 rows x 20 columns]"
      ]
     },
     "execution_count": 277,
     "metadata": {},
     "output_type": "execute_result"
    }
   ],
   "source": [
    "hosp_rate = data[(data['Question'].isin(hospitalization_questions)) #& (data['LocationDesc'] == 'United States')\n",
    "                  ]\n",
    "hosp_rate\n"
   ]
  },
  {
   "cell_type": "code",
   "execution_count": 278,
   "metadata": {},
   "outputs": [
    {
     "data": {
      "text/plain": [
       "['Major mortality rate',\n",
       " 'heart diseases mortality rate',\n",
       " 'Stroke mortality rate',\n",
       " 'Coronary mortality rate',\n",
       " 'Heart attack mortality rate',\n",
       " 'Heart faliure mortality rate']"
      ]
     },
     "execution_count": 278,
     "metadata": {},
     "output_type": "execute_result"
    }
   ],
   "source": [
    "all_questions = data['Question'].value_counts().index.tolist()\n",
    "mortality_questions = [q for q in all_questions if 'mortality' in q.lower()]\n",
    "mortality_questions"
   ]
  },
  {
   "cell_type": "code",
   "execution_count": 279,
   "metadata": {},
   "outputs": [
    {
     "data": {
      "text/html": [
       "<div>\n",
       "<style scoped>\n",
       "    .dataframe tbody tr th:only-of-type {\n",
       "        vertical-align: middle;\n",
       "    }\n",
       "\n",
       "    .dataframe tbody tr th {\n",
       "        vertical-align: top;\n",
       "    }\n",
       "\n",
       "    .dataframe thead th {\n",
       "        text-align: right;\n",
       "    }\n",
       "</style>\n",
       "<table border=\"1\" class=\"dataframe\">\n",
       "  <thead>\n",
       "    <tr style=\"text-align: right;\">\n",
       "      <th></th>\n",
       "      <th>YearStart</th>\n",
       "      <th>LocationDesc</th>\n",
       "      <th>Topic</th>\n",
       "      <th>Question</th>\n",
       "      <th>Data_Value_Unit</th>\n",
       "      <th>Data_Value</th>\n",
       "      <th>Data_Value_Alt</th>\n",
       "      <th>Low_Confidence_Limit</th>\n",
       "      <th>High_Confidence_Limit</th>\n",
       "      <th>Break_Out_Category</th>\n",
       "      <th>Break_Out</th>\n",
       "      <th>ClassId</th>\n",
       "      <th>TopicId</th>\n",
       "      <th>QuestionId</th>\n",
       "      <th>BreakOutCategoryId</th>\n",
       "      <th>BreakOutId</th>\n",
       "      <th>LocationId</th>\n",
       "      <th>GeoLocation</th>\n",
       "      <th>Longitude</th>\n",
       "      <th>Latitude</th>\n",
       "    </tr>\n",
       "  </thead>\n",
       "  <tbody>\n",
       "    <tr>\n",
       "      <th>8</th>\n",
       "      <td>2019</td>\n",
       "      <td>United States</td>\n",
       "      <td>Acute Myocardial Infarction (Heart Attack)</td>\n",
       "      <td>Heart attack mortality rate</td>\n",
       "      <td>Rate per 100,000</td>\n",
       "      <td>9300.0</td>\n",
       "      <td>9300.0</td>\n",
       "      <td>8200.0</td>\n",
       "      <td>10500.0</td>\n",
       "      <td>Race</td>\n",
       "      <td>Non-Hispanic Asian</td>\n",
       "      <td>C1</td>\n",
       "      <td>T3</td>\n",
       "      <td>MD403</td>\n",
       "      <td>BOC04</td>\n",
       "      <td>RAC03</td>\n",
       "      <td>59</td>\n",
       "      <td>NaN</td>\n",
       "      <td>NaN</td>\n",
       "      <td>NaN</td>\n",
       "    </tr>\n",
       "    <tr>\n",
       "      <th>9</th>\n",
       "      <td>2020</td>\n",
       "      <td>United States</td>\n",
       "      <td>Acute Myocardial Infarction (Heart Attack)</td>\n",
       "      <td>Heart attack mortality rate</td>\n",
       "      <td>Rate per 100,000</td>\n",
       "      <td>6900.0</td>\n",
       "      <td>6900.0</td>\n",
       "      <td>6800.0</td>\n",
       "      <td>7100.0</td>\n",
       "      <td>Gender</td>\n",
       "      <td>Male</td>\n",
       "      <td>C1</td>\n",
       "      <td>T3</td>\n",
       "      <td>MD403</td>\n",
       "      <td>BOC02</td>\n",
       "      <td>GEN01</td>\n",
       "      <td>59</td>\n",
       "      <td>NaN</td>\n",
       "      <td>NaN</td>\n",
       "      <td>NaN</td>\n",
       "    </tr>\n",
       "    <tr>\n",
       "      <th>14</th>\n",
       "      <td>2017</td>\n",
       "      <td>Hawaii</td>\n",
       "      <td>Coronary Heart Disease</td>\n",
       "      <td>Coronary mortality rate</td>\n",
       "      <td>Rate per 100,000</td>\n",
       "      <td>0.0</td>\n",
       "      <td>0.0</td>\n",
       "      <td>0.0</td>\n",
       "      <td>0.0</td>\n",
       "      <td>Race</td>\n",
       "      <td>Unknown</td>\n",
       "      <td>C1</td>\n",
       "      <td>T4</td>\n",
       "      <td>MD303</td>\n",
       "      <td>BOC04</td>\n",
       "      <td>RAC08</td>\n",
       "      <td>15</td>\n",
       "      <td>POINT (-157.8577494 21.30485044)</td>\n",
       "      <td>-157.857749</td>\n",
       "      <td>21.30485</td>\n",
       "    </tr>\n",
       "    <tr>\n",
       "      <th>15</th>\n",
       "      <td>2017</td>\n",
       "      <td>Utah</td>\n",
       "      <td>Coronary Heart Disease</td>\n",
       "      <td>Coronary mortality rate</td>\n",
       "      <td>Rate per 100,000</td>\n",
       "      <td>0.0</td>\n",
       "      <td>0.0</td>\n",
       "      <td>0.0</td>\n",
       "      <td>0.0</td>\n",
       "      <td>Race</td>\n",
       "      <td>Unknown</td>\n",
       "      <td>C1</td>\n",
       "      <td>T4</td>\n",
       "      <td>MD303</td>\n",
       "      <td>BOC04</td>\n",
       "      <td>RAC08</td>\n",
       "      <td>49</td>\n",
       "      <td>POINT (-111.5871306 39.36070017)</td>\n",
       "      <td>-111.587131</td>\n",
       "      <td>39.36070</td>\n",
       "    </tr>\n",
       "    <tr>\n",
       "      <th>16</th>\n",
       "      <td>2017</td>\n",
       "      <td>United States</td>\n",
       "      <td>Coronary Heart Disease</td>\n",
       "      <td>Coronary mortality rate</td>\n",
       "      <td>Rate per 100,000</td>\n",
       "      <td>2700.0</td>\n",
       "      <td>2700.0</td>\n",
       "      <td>2100.0</td>\n",
       "      <td>3300.0</td>\n",
       "      <td>Race</td>\n",
       "      <td>Unknown</td>\n",
       "      <td>C1</td>\n",
       "      <td>T4</td>\n",
       "      <td>MD303</td>\n",
       "      <td>BOC04</td>\n",
       "      <td>RAC08</td>\n",
       "      <td>59</td>\n",
       "      <td>NaN</td>\n",
       "      <td>NaN</td>\n",
       "      <td>NaN</td>\n",
       "    </tr>\n",
       "  </tbody>\n",
       "</table>\n",
       "</div>"
      ],
      "text/plain": [
       "    YearStart   LocationDesc                                       Topic  \\\n",
       "8        2019  United States  Acute Myocardial Infarction (Heart Attack)   \n",
       "9        2020  United States  Acute Myocardial Infarction (Heart Attack)   \n",
       "14       2017         Hawaii                      Coronary Heart Disease   \n",
       "15       2017           Utah                      Coronary Heart Disease   \n",
       "16       2017  United States                      Coronary Heart Disease   \n",
       "\n",
       "                       Question   Data_Value_Unit  Data_Value  Data_Value_Alt  \\\n",
       "8   Heart attack mortality rate  Rate per 100,000      9300.0          9300.0   \n",
       "9   Heart attack mortality rate  Rate per 100,000      6900.0          6900.0   \n",
       "14      Coronary mortality rate  Rate per 100,000         0.0             0.0   \n",
       "15      Coronary mortality rate  Rate per 100,000         0.0             0.0   \n",
       "16      Coronary mortality rate  Rate per 100,000      2700.0          2700.0   \n",
       "\n",
       "    Low_Confidence_Limit  High_Confidence_Limit Break_Out_Category  \\\n",
       "8                 8200.0                10500.0               Race   \n",
       "9                 6800.0                 7100.0             Gender   \n",
       "14                   0.0                    0.0               Race   \n",
       "15                   0.0                    0.0               Race   \n",
       "16                2100.0                 3300.0               Race   \n",
       "\n",
       "             Break_Out ClassId TopicId QuestionId BreakOutCategoryId  \\\n",
       "8   Non-Hispanic Asian      C1      T3      MD403              BOC04   \n",
       "9                 Male      C1      T3      MD403              BOC02   \n",
       "14             Unknown      C1      T4      MD303              BOC04   \n",
       "15             Unknown      C1      T4      MD303              BOC04   \n",
       "16             Unknown      C1      T4      MD303              BOC04   \n",
       "\n",
       "   BreakOutId  LocationId                       GeoLocation   Longitude  \\\n",
       "8       RAC03          59                               NaN         NaN   \n",
       "9       GEN01          59                               NaN         NaN   \n",
       "14      RAC08          15  POINT (-157.8577494 21.30485044) -157.857749   \n",
       "15      RAC08          49  POINT (-111.5871306 39.36070017) -111.587131   \n",
       "16      RAC08          59                               NaN         NaN   \n",
       "\n",
       "    Latitude  \n",
       "8        NaN  \n",
       "9        NaN  \n",
       "14  21.30485  \n",
       "15  39.36070  \n",
       "16       NaN  "
      ]
     },
     "execution_count": 279,
     "metadata": {},
     "output_type": "execute_result"
    }
   ],
   "source": [
    "mort_rate = data[(data['Question'].isin(mortality_questions)) #& (data['LocationDesc'] == 'United States')\n",
    "                  ]\n",
    "mort_rate.head()\n"
   ]
  },
  {
   "cell_type": "code",
   "execution_count": 280,
   "metadata": {},
   "outputs": [
    {
     "data": {
      "image/png": "[encoded data removed]",
      "text/plain": [
       "<Figure size 1000x600 with 1 Axes>"
      ]
     },
     "metadata": {},
     "output_type": "display_data"
    }
   ],
   "source": [
    "import matplotlib.pyplot as plt\n",
    "import seaborn as sns\n",
    "\n",
    "# Example: Distribution of Log-Transformed Data_Value\n",
    "plt.figure(figsize=(10, 6))\n",
    "sns.histplot(data['Data_Value'], bins=30, kde=True)\n",
    "plt.title('Distribution of Data Value')\n",
    "plt.show()\n"
   ]
  },
  {
   "cell_type": "code",
   "execution_count": 281,
   "metadata": {},
   "outputs": [
    {
     "data": {
      "image/png": "[encoded data removed]",
      "text/plain": [
       "<Figure size 1000x600 with 1 Axes>"
      ]
     },
     "metadata": {},
     "output_type": "display_data"
    }
   ],
   "source": [
    "import matplotlib.pyplot as plt\n",
    "import seaborn as sns\n",
    "\n",
    "plt.figure(figsize=(10, 6))\n",
    "sns.boxplot(x='Break_Out_Category', y='Data_Value', data=data)\n",
    "plt.title('Sum of Data Values by Break Out Category')\n",
    "plt.show()\n"
   ]
  },
  {
   "cell_type": "code",
   "execution_count": 282,
   "metadata": {},
   "outputs": [
    {
     "data": {
      "image/png": "[encoded data removed]",
      "text/plain": [
       "<Figure size 1000x600 with 1 Axes>"
      ]
     },
     "metadata": {},
     "output_type": "display_data"
    }
   ],
   "source": [
    "race_data = data[data['Break_Out_Category'] == 'Race']\n",
    "\n",
    "# Create the box plot\n",
    "plt.figure(figsize=(10, 6))\n",
    "sns.boxplot(x='Break_Out', y='Data_Value', data=race_data)\n",
    "plt.title('Distribution of Data Values by Race Category')\n",
    "plt.xticks(rotation=45)\n",
    "plt.show()"
   ]
  },
  {
   "cell_type": "code",
   "execution_count": 283,
   "metadata": {},
   "outputs": [
    {
     "data": {
      "image/png": "[encoded data removed]",
      "text/plain": [
       "<Figure size 640x480 with 1 Axes>"
      ]
     },
     "metadata": {},
     "output_type": "display_data"
    }
   ],
   "source": [
    "sns.lineplot(x='YearStart', y='Data_Value', hue='Break_Out_Category', data=data)\n",
    "plt.title('Trend of Heart Disease Metrics Over Time by Category')\n",
    "plt.show()\n"
   ]
  },
  {
   "cell_type": "code",
   "execution_count": 284,
   "metadata": {},
   "outputs": [
    {
     "data": {
      "image/png": "[encoded data removed]",
      "text/plain": [
       "<Figure size 2000x800 with 1 Axes>"
      ]
     },
     "metadata": {},
     "output_type": "display_data"
    }
   ],
   "source": [
    "plt.figure(figsize=(20, 8))  # Width: 20 inches, Height: 8 inches\n",
    "\n",
    "hosp_location_data = hosp_rate.groupby('LocationDesc')['Data_Value'].sum().reset_index()\n",
    "sns.barplot(x='LocationDesc', y='Data_Value', data=hosp_location_data)\n",
    "plt.title('Sum of Hospitalization Data Value by Location')\n",
    "plt.xticks(rotation=90)\n",
    "\n",
    "\n",
    "\n",
    "plt.show()"
   ]
  },
  {
   "cell_type": "markdown",
   "metadata": {},
   "source": [
    "## Minimum Location in Hospitalization rate"
   ]
  },
  {
   "cell_type": "code",
   "execution_count": 294,
   "metadata": {},
   "outputs": [
    {
     "data": {
      "text/plain": [
       "'Utah'"
      ]
     },
     "execution_count": 294,
     "metadata": {},
     "output_type": "execute_result"
    }
   ],
   "source": [
    "min_hosp_loc = hosp_location_data.loc[hosp_location_data['Data_Value'].idxmin()]['LocationDesc']\n",
    "min_hosp_loc"
   ]
  },
  {
   "cell_type": "markdown",
   "metadata": {},
   "source": [
    "## Maximum Location in Hospitalization rate"
   ]
  },
  {
   "cell_type": "code",
   "execution_count": 295,
   "metadata": {},
   "outputs": [
    {
     "data": {
      "text/plain": [
       "'Michigan'"
      ]
     },
     "execution_count": 295,
     "metadata": {},
     "output_type": "execute_result"
    }
   ],
   "source": [
    "max_hosp_loc = hosp_location_data.loc[hosp_location_data['Data_Value'].idxmax()]['LocationDesc']\n",
    "max_hosp_loc"
   ]
  },
  {
   "cell_type": "code",
   "execution_count": 312,
   "metadata": {},
   "outputs": [
    {
     "data": {
      "text/plain": [
       "YearStart        2016.0\n",
       "Data_Value    5317715.1\n",
       "Name: 0, dtype: float64"
      ]
     },
     "execution_count": 312,
     "metadata": {},
     "output_type": "execute_result"
    }
   ],
   "source": [
    "max_hosp = hosp_location_data.loc[hosp_location_data['Data_Value'].idxmax()]\n",
    "max_hosp"
   ]
  },
  {
   "cell_type": "code",
   "execution_count": 285,
   "metadata": {},
   "outputs": [
    {
     "data": {
      "image/png": "[encoded data removed]",
      "text/plain": [
       "<Figure size 2000x800 with 1 Axes>"
      ]
     },
     "metadata": {},
     "output_type": "display_data"
    }
   ],
   "source": [
    "plt.figure(figsize=(20, 8))\n",
    "\n",
    "mort_location_data = mort_rate.groupby('LocationDesc')['Data_Value'].sum().reset_index()\n",
    "sns.barplot(x='LocationDesc', y='Data_Value', data=mort_location_data)\n",
    "plt.title('Sum of Mortality Data Value by Location')\n",
    "plt.xticks(rotation=90)\n",
    "\n",
    "\n",
    "\n",
    "plt.show()"
   ]
  },
  {
   "cell_type": "markdown",
   "metadata": {},
   "source": [
    "## Minimum Location in Mortality Rates"
   ]
  },
  {
   "cell_type": "code",
   "execution_count": 292,
   "metadata": {},
   "outputs": [
    {
     "data": {
      "text/plain": [
       "'South Dakota'"
      ]
     },
     "execution_count": 292,
     "metadata": {},
     "output_type": "execute_result"
    }
   ],
   "source": [
    "min_mort_loc = mort_location_data.loc[mort_location_data['Data_Value'].idxmin()]['LocationDesc']\n",
    "min_mort_loc"
   ]
  },
  {
   "cell_type": "markdown",
   "metadata": {},
   "source": [
    "## Maximum Location in Mortality Rates"
   ]
  },
  {
   "cell_type": "code",
   "execution_count": 293,
   "metadata": {},
   "outputs": [
    {
     "data": {
      "text/plain": [
       "'Alaska'"
      ]
     },
     "execution_count": 293,
     "metadata": {},
     "output_type": "execute_result"
    }
   ],
   "source": [
    "max_mort_loc = mort_location_data.loc[mort_location_data['Data_Value'].idxmax()]['LocationDesc']\n",
    "max_mort_loc"
   ]
  },
  {
   "cell_type": "code",
   "execution_count": 297,
   "metadata": {},
   "outputs": [
    {
     "data": {
      "image/png": "[encoded data removed]",
      "text/plain": [
       "<Figure size 2000x800 with 1 Axes>"
      ]
     },
     "metadata": {},
     "output_type": "display_data"
    }
   ],
   "source": [
    "plt.figure(figsize=(20, 8))  \n",
    "\n",
    "hosp_breakout_data = hosp_rate.groupby('Break_Out')['Data_Value'].sum().reset_index()\n",
    "sns.barplot(x='Break_Out', y='Data_Value', data=hosp_breakout_data)\n",
    "plt.title('Sum of Hospitalization Data Value by Location')\n",
    "plt.xticks(rotation=90)\n",
    "\n",
    "\n",
    "\n",
    "plt.show()"
   ]
  },
  {
   "cell_type": "code",
   "execution_count": 299,
   "metadata": {},
   "outputs": [
    {
     "data": {
      "text/html": [
       "<div>\n",
       "<style scoped>\n",
       "    .dataframe tbody tr th:only-of-type {\n",
       "        vertical-align: middle;\n",
       "    }\n",
       "\n",
       "    .dataframe tbody tr th {\n",
       "        vertical-align: top;\n",
       "    }\n",
       "\n",
       "    .dataframe thead th {\n",
       "        text-align: right;\n",
       "    }\n",
       "</style>\n",
       "<table border=\"1\" class=\"dataframe\">\n",
       "  <thead>\n",
       "    <tr style=\"text-align: right;\">\n",
       "      <th></th>\n",
       "      <th>Break_Out</th>\n",
       "      <th>Data_Value</th>\n",
       "    </tr>\n",
       "  </thead>\n",
       "  <tbody>\n",
       "    <tr>\n",
       "      <th>0</th>\n",
       "      <td>75+</td>\n",
       "      <td>4583670.9</td>\n",
       "    </tr>\n",
       "    <tr>\n",
       "      <th>1</th>\n",
       "      <td>Female</td>\n",
       "      <td>2908915.1</td>\n",
       "    </tr>\n",
       "    <tr>\n",
       "      <th>2</th>\n",
       "      <td>Hispanic</td>\n",
       "      <td>2664900.5</td>\n",
       "    </tr>\n",
       "    <tr>\n",
       "      <th>3</th>\n",
       "      <td>Male</td>\n",
       "      <td>3756064.0</td>\n",
       "    </tr>\n",
       "    <tr>\n",
       "      <th>4</th>\n",
       "      <td>Non-Hispanic Asian</td>\n",
       "      <td>2348502.2</td>\n",
       "    </tr>\n",
       "    <tr>\n",
       "      <th>5</th>\n",
       "      <td>Non-Hispanic Black</td>\n",
       "      <td>3753332.0</td>\n",
       "    </tr>\n",
       "    <tr>\n",
       "      <th>6</th>\n",
       "      <td>Non-Hispanic White</td>\n",
       "      <td>3273840.2</td>\n",
       "    </tr>\n",
       "    <tr>\n",
       "      <th>7</th>\n",
       "      <td>Other</td>\n",
       "      <td>3069665.9</td>\n",
       "    </tr>\n",
       "    <tr>\n",
       "      <th>8</th>\n",
       "      <td>Overall</td>\n",
       "      <td>65076.8</td>\n",
       "    </tr>\n",
       "    <tr>\n",
       "      <th>9</th>\n",
       "      <td>Unknown</td>\n",
       "      <td>1754263.4</td>\n",
       "    </tr>\n",
       "  </tbody>\n",
       "</table>\n",
       "</div>"
      ],
      "text/plain": [
       "            Break_Out  Data_Value\n",
       "0                 75+   4583670.9\n",
       "1              Female   2908915.1\n",
       "2            Hispanic   2664900.5\n",
       "3                Male   3756064.0\n",
       "4  Non-Hispanic Asian   2348502.2\n",
       "5  Non-Hispanic Black   3753332.0\n",
       "6  Non-Hispanic White   3273840.2\n",
       "7               Other   3069665.9\n",
       "8             Overall     65076.8\n",
       "9             Unknown   1754263.4"
      ]
     },
     "execution_count": 299,
     "metadata": {},
     "output_type": "execute_result"
    }
   ],
   "source": [
    "hosp_breakout_data"
   ]
  },
  {
   "cell_type": "code",
   "execution_count": 336,
   "metadata": {},
   "outputs": [
    {
     "data": {
      "text/plain": [
       "Question\n",
       "Major hospitalization rate            2814\n",
       "heart disease hospitalization rate    2814\n",
       "Coronary hospitalization rate         2814\n",
       "Heart Faliure hospitalization rate    2814\n",
       "Heart attack hospitalization rate     2814\n",
       "Stroke hospitalization rate           2814\n",
       "Major mortality rate                  2812\n",
       "heart diseases mortality rate         2806\n",
       "Stroke mortality rate                 2792\n",
       "Coronary mortality rate               2779\n",
       "Heart attack mortality rate           2770\n",
       "Heart faliure mortality rate          2611\n",
       "Name: count, dtype: int64"
      ]
     },
     "execution_count": 336,
     "metadata": {},
     "output_type": "execute_result"
    }
   ],
   "source": [
    "data['Question'].value_counts()"
   ]
  },
  {
   "cell_type": "code",
   "execution_count": 305,
   "metadata": {},
   "outputs": [
    {
     "data": {
      "image/png": "[encoded data removed]",
      "text/plain": [
       "<Figure size 2000x800 with 1 Axes>"
      ]
     },
     "metadata": {},
     "output_type": "display_data"
    }
   ],
   "source": [
    "plt.figure(figsize=(20, 8))  \n",
    "\n",
    "mort_breakout_data = mort_rate.groupby('Break_Out')['Data_Value'].sum().reset_index()\n",
    "sns.barplot(x='Break_Out', y='Data_Value', data=mort_breakout_data)\n",
    "plt.title('Sum of Mortality Data Value by Location')\n",
    "plt.xticks(rotation=90)\n",
    "\n",
    "\n",
    "\n",
    "plt.show()"
   ]
  },
  {
   "cell_type": "code",
   "execution_count": 307,
   "metadata": {},
   "outputs": [
    {
     "data": {
      "image/png": "[encoded data removed]",
      "text/plain": [
       "<Figure size 2000x800 with 1 Axes>"
      ]
     },
     "metadata": {},
     "output_type": "display_data"
    }
   ],
   "source": [
    "plt.figure(figsize=(20, 8))  # Width: 20 inches, Height: 8 inches\n",
    "\n",
    "hosp_year_data = hosp_rate.groupby('YearStart')['Data_Value'].sum().reset_index()\n",
    "sns.barplot(x='YearStart', y='Data_Value', data=hosp_year_data,color='green')\n",
    "plt.title('Sum of Hospitalization Data Value by Year')\n",
    "plt.xticks(rotation=90)\n",
    "\n",
    "\n",
    "\n",
    "plt.show()"
   ]
  },
  {
   "cell_type": "code",
   "execution_count": 306,
   "metadata": {},
   "outputs": [
    {
     "data": {
      "image/png": "[encoded data removed]",
      "text/plain": [
       "<Figure size 2000x800 with 1 Axes>"
      ]
     },
     "metadata": {},
     "output_type": "display_data"
    }
   ],
   "source": [
    "plt.figure(figsize=(20, 8))  # Width: 20 inches, Height: 8 inches\n",
    "\n",
    "mort_year_data = mort_rate.groupby('YearStart')['Data_Value'].sum().reset_index()\n",
    "sns.barplot(x='YearStart', y='Data_Value', data=mort_year_data,color='red')\n",
    "plt.title('Sum of Mortality Data Value by Year')\n",
    "plt.xticks(rotation=90)\n",
    "\n",
    "\n",
    "\n",
    "plt.show()"
   ]
  },
  {
   "cell_type": "code",
   "execution_count": 286,
   "metadata": {},
   "outputs": [
    {
     "data": {
      "image/png": "[encoded data removed]",
      "text/plain": [
       "<Figure size 640x480 with 1 Axes>"
      ]
     },
     "metadata": {},
     "output_type": "display_data"
    }
   ],
   "source": [
    "sns.barplot(x='YearStart', y='Data_Value', hue='Question', data=us_hd)\n",
    "plt.title('Comparison of Heart Disease Mortality vs Hospitalization Rates')\n",
    "plt.show()\n"
   ]
  },
  {
   "cell_type": "code",
   "execution_count": 314,
   "metadata": {},
   "outputs": [],
   "source": [
    "hosp_rate.to_csv('hospitalization_data.csv' , index=False)\n",
    "mort_rate.to_csv('Mortality_data.csv' , index=False)\n",
    "data.to_csv('General.csv' , index= False)"
   ]
  },
  {
   "cell_type": "code",
   "execution_count": 315,
   "metadata": {},
   "outputs": [
    {
     "data": {
      "text/plain": [
       "Break_Out\n",
       "Male                  1872\n",
       "Non-Hispanic White    1872\n",
       "Female                1872\n",
       "75+                   1872\n",
       "Other                 1861\n",
       "Unknown               1840\n",
       "Non-Hispanic Black    1825\n",
       "Non-Hispanic Asian    1786\n",
       "Hispanic              1734\n",
       "Overall                 36\n",
       "Name: count, dtype: int64"
      ]
     },
     "execution_count": 315,
     "metadata": {},
     "output_type": "execute_result"
    }
   ],
   "source": [
    "mort_rate['Break_Out'].value_counts()"
   ]
  },
  {
   "cell_type": "code",
   "execution_count": 316,
   "metadata": {},
   "outputs": [
    {
     "data": {
      "text/plain": [
       "Break_Out\n",
       "Unknown               1872\n",
       "Male                  1872\n",
       "75+                   1872\n",
       "Other                 1872\n",
       "Non-Hispanic Asian    1872\n",
       "Hispanic              1872\n",
       "Non-Hispanic Black    1872\n",
       "Female                1872\n",
       "Non-Hispanic White    1872\n",
       "Overall                 36\n",
       "Name: count, dtype: int64"
      ]
     },
     "execution_count": 316,
     "metadata": {},
     "output_type": "execute_result"
    }
   ],
   "source": [
    "hosp_rate['Break_Out'].value_counts()"
   ]
  },
  {
   "cell_type": "code",
   "execution_count": 317,
   "metadata": {},
   "outputs": [
    {
     "data": {
      "text/plain": [
       "Break_Out\n",
       "Male                  3744\n",
       "75+                   3744\n",
       "Non-Hispanic White    3744\n",
       "Female                3744\n",
       "Other                 3733\n",
       "Unknown               3712\n",
       "Non-Hispanic Black    3697\n",
       "Non-Hispanic Asian    3658\n",
       "Hispanic              3606\n",
       "Overall                 72\n",
       "Name: count, dtype: int64"
      ]
     },
     "execution_count": 317,
     "metadata": {},
     "output_type": "execute_result"
    }
   ],
   "source": [
    "data['Break_Out'].value_counts()"
   ]
  },
  {
   "cell_type": "code",
   "execution_count": 328,
   "metadata": {},
   "outputs": [],
   "source": [
    "z = data[data['Break_Out'] == '75+']['Data_Value'].sum()"
   ]
  },
  {
   "cell_type": "code",
   "execution_count": 329,
   "metadata": {},
   "outputs": [],
   "source": [
    "x = hosp_rate[hosp_rate['Break_Out'] == '75+']['Data_Value'].sum()"
   ]
  },
  {
   "cell_type": "code",
   "execution_count": 330,
   "metadata": {},
   "outputs": [],
   "source": [
    "y = mort_rate[mort_rate['Break_Out'] == '75+']['Data_Value'].sum()"
   ]
  },
  {
   "cell_type": "code",
   "execution_count": 331,
   "metadata": {},
   "outputs": [
    {
     "data": {
      "text/plain": [
       "-1.862645149230957e-09"
      ]
     },
     "execution_count": 331,
     "metadata": {},
     "output_type": "execute_result"
    }
   ],
   "source": [
    "z - (x + y)"
   ]
  }
 ],
 "metadata": {
  "kernelspec": {
   "display_name": "base",
   "language": "python",
   "name": "python3"
  },
  "language_info": {
   "codemirror_mode": {
    "name": "ipython",
    "version": 3
   },
   "file_extension": ".py",
   "mimetype": "text/x-python",
   "name": "python",
   "nbconvert_exporter": "python",
   "pygments_lexer": "ipython3",
   "version": "3.12.4"
  }
 },
 "nbformat": 4,
 "nbformat_minor": 2
}
